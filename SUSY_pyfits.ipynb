{
 "cells": [
  {
   "cell_type": "markdown",
   "metadata": {},
   "source": [
    "# Introduction\n",
    "\n",
    "A quite common characteristic of the ATLAS Supersymmetry (SUSY) analyses is the Standard Model (SM) background estimation strategy along with the statistical approaches for testing, first, the compatibility of the observed data with the predicted SM background and, second, in absence of a data excess, setting exclusion limits on SUSY models. Additionally, limits are usually set in a model-independent manner too, in terms of a generic Beyond SM (BSM) model. Alternatively, in the case of an actual data excess, measurement of the signal strength of a model can be performed.\n",
    "\n",
    "This notebook implements the three types of statistical fits regularly used by ATLAS SUSY analyses to achieve the above:  \n",
    "1. **Background-only fit** to assess the compatibility of the observed data with the background prediction.\n",
    "2. **Exclusion fit** to place model-dependent exclusion limits or measure the signal strength of a model.\n",
    "3. **Discovery fit** to place model-independent exclusion limits.\n",
    "\n",
    "Those types of fits are originally introduced in the HistFitter framework, which is using the HistFactory and RooStats packages that are implemented in ROOT [[1](https://doi.org/10.1140/epjc/s10052-015-3327-7)]. This notebook provides an implementation of the above fit strategies solely in python. The two main libraries used are [`pyhf`](https://github.com/scikit-hep/pyhf) and [`cabinetry`](https://github.com/scikit-hep/cabinetry)."
   ]
  },
  {
   "cell_type": "markdown",
   "metadata": {},
   "source": [
    "# Analysis Design\n",
    "\n",
    "Typically, an analysis design is driven by the *Signal Regions* (SRs), which are kinematic regions that aim to discriminate the signal from the SM background. Generally, the background can be categorized in:  \n",
    "1. *Reducible* background: typically a high cross section SM processes that *fakes* the signal characteristics and estimated by independent data-driven methods.\n",
    "2. *Irreducible* background: all those SM processes that actually have the same physical characteristics with the signal. Their estimate relies in semi-data-driven methods and is one of the main topics of this presentation.\n",
    "\n",
    "To estimate the contribution of the irreducible backgrounds, the shape of the kinematic distributions is taken from Monte Carlo (MC) simulation while the normalization is extracted from data, thus the semi-data-driven term. To extract the normalization factors ($\\mu$-factors), background enriched regions, called *Control Regions* (CRs), are constructed and utilized to scale the initial MC predictions to the observed data. Additionally, *Validation Regions* (VRs) are also defined, with a topology as similar as possible to SRs, but with low signal contamination, in order to verify the background agreement with the data before looking the yields in the SRs.\n",
    "\n",
    "The strategy described can be schematically seen below:  \n",
    "\n",
    "![](figures/cartoon_CRVRSR.png)\n",
    "\n",
    "After the background has been estimated and validated, the agreement with the observed data can be assessed in the SRs. In absence of data excess, the exclusion of a model can be tested. In such case signal normalization factors are considered and fit as well.\n",
    "\n",
    "## Likelihood Function\n",
    "\n",
    "A binned likelihood function is build and fit to estimate both the background and the signal normalization factors, along with nuisance parameters of the fit describing the measurement systematic uncertainties. Such likelihood function is build as a product of Poisson probability functions $P(n_i, \\lambda_i)$ describing the probability to observe $n$ events when $\\lambda$ are expected in region $i$ (SR, CR, VR). The $\\lambda_i$ depends on the normalization factors, generally from both the (irreducible) background ( $\\boldsymbol{\\mu}$ ) and the signal processes ( $\\mu_{\\mathrm{sig}}$ ). Systematic uncertainties of the measurement (nuisance parameters) are constrained by normal distributions $C(\\boldsymbol{\\theta}^\\mathrm{0},\\boldsymbol{\\theta})$, where $\\boldsymbol{\\theta}^\\mathrm{0}$ is the expected values of the nuisance parameters. The resulting likelihood is:\n",
    "\n",
    "$$\n",
    "L  = \\prod_{i\\in\\text{SR}} \\mathcal{P}(n_i|\\lambda_i(\\mu_\\text{sig},\\boldsymbol{\\mu},\\boldsymbol{\\theta})) \\times \\prod_{i\\in\\text{CR}} \\mathcal{P}(n_i|\\lambda_i(\\mu_\\text{sig},\\boldsymbol{\\mu},\\boldsymbol{\\theta})) \\times C(\\boldsymbol{\\theta}^\\mathrm{0},\\boldsymbol{\\theta})\n",
    "$$\n",
    "\n",
    "\n",
    "and the parameters $\\boldsymbol{\\mu}$, $\\mu_{\\mathrm{sig}}$ and $\\boldsymbol{\\theta}$ are determined by a maximum likelihood fit."
   ]
  },
  {
   "cell_type": "markdown",
   "metadata": {},
   "source": [
    "# Example Analysis\n",
    "\n",
    "The analysis used in this presentation, to demonstrate the three aforementioned fit strategies, is a toy SUSY analysis. This toy analysis consist of a SR to target the SUSY model, two CRs to extract the normalization of two SM background and two VRs to validate the extracted background model. The SUSY model investigated features squark production decaying to a complex final state via intermediate charginos and charged Higgs bosons. The final state state consists of several jets with one of them originating from a b-decay, a photon, a tau-lepton and missing transverse momentum from the stable neutralinos. The model is shown below:\n",
    "\n",
    "![](figures/sqsq-C1C1-Hplus.png)\n",
    "\n",
    "It should be stressed that this is a toy model and the couplings used violate conserved quantities.\n",
    "\n",
    "The *irreducible* SM backgrounds considered are:\n",
    "1. top pair production in association with a photon (*tty*)\n",
    "2. W boson production in association with a photon (*Wy*). Only hadronic tau decays of the W boson are considered.\n",
    "\n",
    "The analysis regions (SR, CRs, VR) are defined by kinematic selections on a number of variables. The exact definition is not important in the context of this presentations but is given on the table below for reference.\n",
    "\n",
    "| Selection                             | SR        | CR-tty               | CR-Wy                | VR-tty    | VR-Wy         |\n",
    "| ---                                   | ---       | ---                  | ---                  | ---       | ---           |\n",
    "| $E_\\text{T}^{\\text{miss}}$ trigger    | ✔         | ✔                    | ✔                    | ✔         | ✔             |\n",
    "| $E_\\text{T}^{\\text{miss}}$            | > 400 GeV | $\\in$ (250, 400) GeV | $\\in$ (250, 400) GeV | > 400 GeV | > 400 GeV     |\n",
    "| $\\text{N}_{\\text{leptons}}$           | 0         | 0                    | 0                    | 0         | 0             |\n",
    "| $\\text{N}_{\\gamma}$                   | 1         | 1                    | 1                    | 1         | 1             |\n",
    "| $\\text{N}_{\\text{taus}}$              | 1         | 1                    | 1                    | 1         | 1             |\n",
    "| $\\text{N}_{\\text{jets}}$              | ≥4        | ≥4                   | ≥4                   | ≥4        | ≥4            |\n",
    "| $\\text{N}_{\\text{b-jets}}$            | 1         | ≥2                   | 0                    | ≥2        | 0             |\n",
    "| $m_{\\tau\\gamma}$                      | > 100 GeV | -                    | -                    | > 100 GeV | > 100 GeV     |"
   ]
  },
  {
   "cell_type": "markdown",
   "metadata": {},
   "source": [
    "# Background-only Fit\n",
    "\n",
    "The background-only fit is used to asses the compatibility of the observed data with the background prediction. For that fit, only the CRs are used to extract the normalization factors $\\boldsymbol{\\mu}$, which are afterwards extrapolated first to the VRs and eventually to the SRs, as shown in the figure above.\n",
    "\n",
    "Below we demonstrate how to setup and perform the background-only fit."
   ]
  },
  {
   "cell_type": "markdown",
   "metadata": {},
   "source": [
    "Import the required packages."
   ]
  },
  {
   "cell_type": "code",
   "execution_count": 31,
   "metadata": {},
   "outputs": [],
   "source": [
    "import cabinetry\n",
    "cabinetry.set_logging()\n",
    "import pyhf\n",
    "import tools\n",
    "from tabulate import tabulate\n",
    "from concurrent.futures import ProcessPoolExecutor\n",
    "import seaborn as sns\n",
    "import matplotlib.pyplot as plt\n",
    "import numpy as np"
   ]
  },
  {
   "cell_type": "markdown",
   "metadata": {},
   "source": [
    "Use a `cabinetry` configuration file to steer the workspace construction."
   ]
  },
  {
   "cell_type": "code",
   "execution_count": 3,
   "metadata": {},
   "outputs": [
    {
     "name": "stderr",
     "output_type": "stream",
     "text": [
      "INFO - cabinetry.configuration - opening config file configs/config.yml\n",
      "INFO - cabinetry.configuration - the config contains:\n",
      "INFO - cabinetry.configuration -   3 Sample(s)\n",
      "INFO - cabinetry.configuration -   5 Regions(s)\n",
      "INFO - cabinetry.configuration -   2 NormFactor(s)\n",
      "INFO - cabinetry.configuration -   1 Systematic(s)\n"
     ]
    }
   ],
   "source": [
    "config = cabinetry.configuration.load('configs/config.yml')\n",
    "cabinetry.configuration.print_overview(config)"
   ]
  },
  {
   "cell_type": "markdown",
   "metadata": {},
   "source": [
    "Here one would normally create histograms from the root files by:\n",
    "```python\n",
    "cabinetry.templates.build(config)\n",
    "```\n",
    "but to save time we already provide those histograms in the `histogram/` directory of the repository. So we will use them to create a workspace from them."
   ]
  },
  {
   "cell_type": "code",
   "execution_count": 4,
   "metadata": {},
   "outputs": [
    {
     "name": "stderr",
     "output_type": "stream",
     "text": [
      "INFO - cabinetry.workspace - building workspace\n",
      "WARNING - cabinetry.histo - the modified histogram histograms/SR_tty_modified.npz does not exist\n",
      "WARNING - cabinetry.histo - loading the un-modified histogram instead!\n",
      "DEBUG - cabinetry.workspace - adding NormFactor mu_tty to sample tty in region SR\n",
      "DEBUG - cabinetry.workspace - adding OverallSys FlatSys to sample tty in region SR\n",
      "WARNING - cabinetry.histo - the modified histogram histograms/SR_Wy_modified.npz does not exist\n",
      "WARNING - cabinetry.histo - loading the un-modified histogram instead!\n",
      "DEBUG - cabinetry.workspace - adding NormFactor mu_Wt to sample Wy in region SR\n",
      "DEBUG - cabinetry.workspace - adding OverallSys FlatSys to sample Wy in region SR\n",
      "WARNING - cabinetry.histo - the modified histogram histograms/VR-tty_tty_modified.npz does not exist\n",
      "WARNING - cabinetry.histo - loading the un-modified histogram instead!\n",
      "DEBUG - cabinetry.workspace - adding NormFactor mu_tty to sample tty in region VR-tty\n",
      "DEBUG - cabinetry.workspace - adding OverallSys FlatSys to sample tty in region VR-tty\n",
      "WARNING - cabinetry.histo - the modified histogram histograms/VR-tty_Wy_modified.npz does not exist\n",
      "WARNING - cabinetry.histo - loading the un-modified histogram instead!\n",
      "DEBUG - cabinetry.workspace - adding NormFactor mu_Wt to sample Wy in region VR-tty\n",
      "DEBUG - cabinetry.workspace - adding OverallSys FlatSys to sample Wy in region VR-tty\n",
      "WARNING - cabinetry.histo - the modified histogram histograms/VR-Wy_tty_modified.npz does not exist\n",
      "WARNING - cabinetry.histo - loading the un-modified histogram instead!\n",
      "DEBUG - cabinetry.workspace - adding NormFactor mu_tty to sample tty in region VR-Wy\n",
      "DEBUG - cabinetry.workspace - adding OverallSys FlatSys to sample tty in region VR-Wy\n",
      "WARNING - cabinetry.histo - the modified histogram histograms/VR-Wy_Wy_modified.npz does not exist\n",
      "WARNING - cabinetry.histo - loading the un-modified histogram instead!\n",
      "DEBUG - cabinetry.workspace - adding NormFactor mu_Wt to sample Wy in region VR-Wy\n",
      "DEBUG - cabinetry.workspace - adding OverallSys FlatSys to sample Wy in region VR-Wy\n",
      "WARNING - cabinetry.histo - the modified histogram histograms/CR-tty_tty_modified.npz does not exist\n",
      "WARNING - cabinetry.histo - loading the un-modified histogram instead!\n",
      "DEBUG - cabinetry.workspace - adding NormFactor mu_tty to sample tty in region CR-tty\n",
      "DEBUG - cabinetry.workspace - adding OverallSys FlatSys to sample tty in region CR-tty\n",
      "WARNING - cabinetry.histo - the modified histogram histograms/CR-tty_Wy_modified.npz does not exist\n",
      "WARNING - cabinetry.histo - loading the un-modified histogram instead!\n",
      "DEBUG - cabinetry.workspace - adding NormFactor mu_Wt to sample Wy in region CR-tty\n",
      "DEBUG - cabinetry.workspace - adding OverallSys FlatSys to sample Wy in region CR-tty\n",
      "WARNING - cabinetry.histo - the modified histogram histograms/CR-Wy_tty_modified.npz does not exist\n",
      "WARNING - cabinetry.histo - loading the un-modified histogram instead!\n",
      "DEBUG - cabinetry.workspace - adding NormFactor mu_tty to sample tty in region CR-Wy\n",
      "DEBUG - cabinetry.workspace - adding OverallSys FlatSys to sample tty in region CR-Wy\n",
      "WARNING - cabinetry.histo - the modified histogram histograms/CR-Wy_Wy_modified.npz does not exist\n",
      "WARNING - cabinetry.histo - loading the un-modified histogram instead!\n",
      "DEBUG - cabinetry.workspace - adding NormFactor mu_Wt to sample Wy in region CR-Wy\n",
      "DEBUG - cabinetry.workspace - adding OverallSys FlatSys to sample Wy in region CR-Wy\n",
      "WARNING - cabinetry.histo - the modified histogram histograms/SR_Data_modified.npz does not exist\n",
      "WARNING - cabinetry.histo - loading the un-modified histogram instead!\n",
      "WARNING - cabinetry.histo - the modified histogram histograms/VR-tty_Data_modified.npz does not exist\n",
      "WARNING - cabinetry.histo - loading the un-modified histogram instead!\n",
      "WARNING - cabinetry.histo - the modified histogram histograms/VR-Wy_Data_modified.npz does not exist\n",
      "WARNING - cabinetry.histo - loading the un-modified histogram instead!\n",
      "WARNING - cabinetry.histo - the modified histogram histograms/CR-tty_Data_modified.npz does not exist\n",
      "WARNING - cabinetry.histo - loading the un-modified histogram instead!\n",
      "WARNING - cabinetry.histo - the modified histogram histograms/CR-Wy_Data_modified.npz does not exist\n",
      "WARNING - cabinetry.histo - loading the un-modified histogram instead!\n",
      "INFO - pyhf.workspace - Validating spec against schema: workspace.json\n"
     ]
    }
   ],
   "source": [
    "ws = cabinetry.workspace.build(config)"
   ]
  },
  {
   "cell_type": "markdown",
   "metadata": {},
   "source": [
    "Below we print the yields from the workspace. We don't want to reveal the data in the SR yet (even if we use toy data) before we're sure about our background model. Thus we're using a utility function `blind_data` which is substituting the data with the floor of the MC prediction."
   ]
  },
  {
   "cell_type": "code",
   "execution_count": 5,
   "metadata": {},
   "outputs": [
    {
     "name": "stderr",
     "output_type": "stream",
     "text": [
      "INFO - pyhf.workspace - Validating spec against schema: workspace.json\n",
      "INFO - pyhf.pdf - Validating spec against schema: model.json\n",
      "INFO - pyhf.pdf - adding modifier mu_Wt (1 new nuisance parameters)\n",
      "INFO - pyhf.pdf - adding modifier mu_tty (1 new nuisance parameters)\n",
      "INFO - pyhf.pdf - adding modifier FlatSys (1 new nuisance parameters)\n",
      "INFO - pyhf.pdf - adding modifier staterror_CR-Wy (1 new nuisance parameters)\n",
      "INFO - pyhf.pdf - adding modifier staterror_CR-tty (1 new nuisance parameters)\n",
      "INFO - pyhf.pdf - adding modifier staterror_SR (1 new nuisance parameters)\n",
      "INFO - pyhf.pdf - adding modifier staterror_VR-Wy (1 new nuisance parameters)\n",
      "INFO - pyhf.pdf - adding modifier staterror_VR-tty (1 new nuisance parameters)\n",
      "DEBUG - cabinetry.model_utils - total stdev is [[48.4378833253431], [17.54221699646245], [2.6306382184870496], [6.449790413245681], [1.707720923882212]]\n",
      "DEBUG - cabinetry.model_utils - total stdev per channel is [48.4378833253431, 17.54221699646245, 2.6306382184870496, 6.449790413245681, 1.707720923882212]\n",
      "INFO - cabinetry.tabulate - yields per channel for pre-fit model prediction:\n",
      "╒══════════╤════════════════╤═══════════════╤══════════════╤══════════════╤═════════════╕\n",
      "│ sample   │ CR-Wy          │ CR-tty        │ SR           │ VR-Wy        │ VR-tty      │\n",
      "╞══════════╪════════════════╪═══════════════╪══════════════╪══════════════╪═════════════╡\n",
      "│ Wy       │ 232.70 ± 46.56 │ 13.79 ± 2.77  │ 9.19 ± 1.85  │ 31.50 ± 6.31 │ 1.98 ± 0.41 │\n",
      "├──────────┼────────────────┼───────────────┼──────────────┼──────────────┼─────────────┤\n",
      "│ tty      │ 9.39 ± 1.88    │ 73.69 ± 14.78 │ 3.86 ± 0.78  │ 0.71 ± 0.14  │ 6.36 ± 1.30 │\n",
      "├──────────┼────────────────┼───────────────┼──────────────┼──────────────┼─────────────┤\n",
      "│ total    │ 242.09 ± 48.44 │ 87.48 ± 17.54 │ 13.06 ± 2.63 │ 32.21 ± 6.45 │ 8.34 ± 1.71 │\n",
      "├──────────┼────────────────┼───────────────┼──────────────┼──────────────┼─────────────┤\n",
      "│ data     │ 167.00         │ 74.00         │ 13.00        │ 28.00        │ 12.00       │\n",
      "╘══════════╧════════════════╧═══════════════╧══════════════╧══════════════╧═════════════╛\n",
      "INFO - cabinetry.tabulate - saving table as tables/yields_per_channel_pre-fit.txt\n"
     ]
    },
    {
     "data": {
      "text/plain": [
       "{'yields_per_channel': [{'sample': 'Wy',\n",
       "   'CR-Wy': '232.70 ± 46.56',\n",
       "   'CR-tty': '13.79 ± 2.77',\n",
       "   'SR': '9.19 ± 1.85',\n",
       "   'VR-Wy': '31.50 ± 6.31',\n",
       "   'VR-tty': '1.98 ± 0.41'},\n",
       "  {'sample': 'tty',\n",
       "   'CR-Wy': '9.39 ± 1.88',\n",
       "   'CR-tty': '73.69 ± 14.78',\n",
       "   'SR': '3.86 ± 0.78',\n",
       "   'VR-Wy': '0.71 ± 0.14',\n",
       "   'VR-tty': '6.36 ± 1.30'},\n",
       "  {'sample': 'total',\n",
       "   'CR-Wy': '242.09 ± 48.44',\n",
       "   'CR-tty': '87.48 ± 17.54',\n",
       "   'SR': '13.06 ± 2.63',\n",
       "   'VR-Wy': '32.21 ± 6.45',\n",
       "   'VR-tty': '8.34 ± 1.71'},\n",
       "  {'sample': 'data',\n",
       "   'CR-Wy': '167.00',\n",
       "   'CR-tty': '74.00',\n",
       "   'SR': '13.00',\n",
       "   'VR-Wy': '28.00',\n",
       "   'VR-tty': '12.00'}]}"
      ]
     },
     "execution_count": 5,
     "metadata": {},
     "output_type": "execute_result"
    }
   ],
   "source": [
    "# get model and observed data\n",
    "model, data = cabinetry.model_utils.model_and_data(ws)\n",
    "\n",
    "# obtain pre-fit model predictions\n",
    "model_pred_prefit = cabinetry.model_utils.prediction(model)\n",
    "\n",
    "# blind data in the SR\n",
    "blinded_data = tools.blind_data(data, config, model_pred_prefit, model)\n",
    "\n",
    "# show yields\n",
    "cabinetry.tabulate.yields(model_pred_prefit, blinded_data, per_bin=False, per_channel=True)"
   ]
  },
  {
   "cell_type": "markdown",
   "metadata": {},
   "source": [
    "Uncertainties above include both statistical and our background `FlatSys` component.\n",
    "\n",
    "As described already, for the background-only fit we only fit the CRs. So we're removing (pruning) the SRs and VRs from the workspace."
   ]
  },
  {
   "cell_type": "code",
   "execution_count": 6,
   "metadata": {},
   "outputs": [
    {
     "name": "stderr",
     "output_type": "stream",
     "text": [
      "INFO - pyhf.workspace - Validating spec against schema: workspace.json\n",
      "INFO - pyhf.workspace - Validating spec against schema: workspace.json\n",
      "INFO - pyhf.workspace - Validating spec against schema: workspace.json\n",
      "INFO - pyhf.pdf - Validating spec against schema: model.json\n",
      "INFO - pyhf.pdf - adding modifier mu_Wt (1 new nuisance parameters)\n",
      "INFO - pyhf.pdf - adding modifier mu_tty (1 new nuisance parameters)\n",
      "INFO - pyhf.pdf - adding modifier FlatSys (1 new nuisance parameters)\n",
      "INFO - pyhf.pdf - adding modifier staterror_CR-Wy (1 new nuisance parameters)\n",
      "INFO - pyhf.pdf - adding modifier staterror_CR-tty (1 new nuisance parameters)\n"
     ]
    }
   ],
   "source": [
    "# prune SRs & VRs from workspace\n",
    "redundant_channels = [region['Name'] for region in config['Regions'] if 'SR' in region['Name'] or 'VR' in region['Name']]\n",
    "pruned_workspace = pyhf.Workspace(ws).prune(channels=redundant_channels)\n",
    "\n",
    "# get pruned model and pruned observed data\n",
    "pruned_model, pruned_data = cabinetry.model_utils.model_and_data(pruned_workspace)"
   ]
  },
  {
   "cell_type": "markdown",
   "metadata": {},
   "source": [
    "Now we can fit the model to the data and visualize the resulted (post-fit) parameters."
   ]
  },
  {
   "cell_type": "code",
   "execution_count": 7,
   "metadata": {},
   "outputs": [
    {
     "name": "stderr",
     "output_type": "stream",
     "text": [
      "INFO - cabinetry.fit - performing maximum likelihood fit\n",
      "INFO - cabinetry.fit - Migrad status:\n",
      "┌─────────────────────────────────────────────────────────────────────────┐\n",
      "│                                Migrad                                   │\n",
      "├──────────────────────────────────┬──────────────────────────────────────┤\n",
      "│ FCN = -0.1563                    │              Nfcn = 167              │\n",
      "│ EDM = 4.58e-06 (Goal: 0.0002)    │                                      │\n",
      "├──────────────────────────────────┼──────────────────────────────────────┤\n",
      "│          Valid Minimum           │        No Parameters at limit        │\n",
      "├──────────────────────────────────┼──────────────────────────────────────┤\n",
      "│ Below EDM threshold (goal x 10)  │           Below call limit           │\n",
      "├───────────────┬──────────────────┼───────────┬─────────────┬────────────┤\n",
      "│  Covariance   │     Hesse ok     │ Accurate  │  Pos. def.  │ Not forced │\n",
      "└───────────────┴──────────────────┴───────────┴─────────────┴────────────┘\n",
      "DEBUG - cabinetry.fit - -2 log(L) = -0.156330 at best-fit point\n",
      "INFO - cabinetry.fit - fit results (with symmetric uncertainties):\n",
      "INFO - cabinetry.fit - mu_Wt               =  0.6824 +/- 0.1483\n",
      "INFO - cabinetry.fit - mu_tty              =  0.8768 +/- 0.2126\n",
      "INFO - cabinetry.fit - FlatSys             = -0.0012 +/- 0.9930\n",
      "INFO - cabinetry.fit - staterror_CR-Wy[0]  =  1.0000 +/- 0.0058\n",
      "INFO - cabinetry.fit - staterror_CR-tty[0] =  1.0000 +/- 0.0144\n",
      "INFO - cabinetry.visualize.utils - saving figure as figures/pulls.pdf\n"
     ]
    },
    {
     "data": {
      "image/png": "[encoded data removed]",
      "text/plain": [
       "<Figure size 600x175 with 1 Axes>"
      ]
     },
     "execution_count": 7,
     "metadata": {},
     "output_type": "execute_result"
    }
   ],
   "source": [
    "# fit\n",
    "bkgOnlyFit_results = cabinetry.fit.fit(pruned_model, pruned_data)\n",
    "\n",
    "# visualize\n",
    "cabinetry.visualize.pulls(bkgOnlyFit_results)"
   ]
  },
  {
   "cell_type": "markdown",
   "metadata": {},
   "source": [
    "Of course, we care about the background estimation in VRs and eventually in SRs. So we will extrapolate the normalization factors from the CRs to the VRs and SRs. \n",
    "\n",
    "We will first look only at VRs in order to validate the background modeling and if the agreement between the observed data and the predicted background is adequate, we will further look into the SRs."
   ]
  },
  {
   "cell_type": "code",
   "execution_count": 8,
   "metadata": {},
   "outputs": [
    {
     "name": "stderr",
     "output_type": "stream",
     "text": [
      "DEBUG - cabinetry.model_utils - total stdev is [[12.92093634454921], [8.596608672180983], [0.6727673267430768], [1.7742814749935782], [0.8053605083144251]]\n",
      "DEBUG - cabinetry.model_utils - total stdev per channel is [12.92093634454921, 8.596608672180983, 0.6727673267430768, 1.7742814749935782, 0.8053605083144251]\n",
      "INFO - cabinetry.tabulate - yields per channel for post-fit model prediction:\n",
      "╒══════════╤════════════════╤══════════════╤═════════════╤══════════════╤═════════════╕\n",
      "│ sample   │ CR-Wy          │ CR-tty       │ SR          │ VR-Wy        │ VR-tty      │\n",
      "╞══════════╪════════════════╪══════════════╪═════════════╪══════════════╪═════════════╡\n",
      "│ Wy       │ 158.75 ± 13.07 │ 9.41 ± 0.79  │ 6.27 ± 0.54 │ 21.49 ± 1.79 │ 1.35 ± 0.13 │\n",
      "├──────────┼────────────────┼──────────────┼─────────────┼──────────────┼─────────────┤\n",
      "│ tty      │ 8.23 ± 1.12    │ 64.60 ± 8.70 │ 3.38 ± 0.47 │ 0.62 ± 0.08  │ 5.57 ± 0.80 │\n",
      "├──────────┼────────────────┼──────────────┼─────────────┼──────────────┼─────────────┤\n",
      "│ total    │ 166.98 ± 12.92 │ 74.01 ± 8.60 │ 9.66 ± 0.67 │ 22.11 ± 1.77 │ 6.92 ± 0.81 │\n",
      "├──────────┼────────────────┼──────────────┼─────────────┼──────────────┼─────────────┤\n",
      "│ data     │ 167.00         │ 74.00        │ 9.00        │ 28.00        │ 12.00       │\n",
      "╘══════════╧════════════════╧══════════════╧═════════════╧══════════════╧═════════════╛\n",
      "INFO - cabinetry.tabulate - saving table as tables/yields_per_channel_post-fit.txt\n"
     ]
    },
    {
     "data": {
      "image/png": "[encoded data removed]",
      "text/plain": [
       "<Figure size 1050x600 with 1 Axes>"
      ]
     },
     "metadata": {},
     "output_type": "display_data"
    }
   ],
   "source": [
    "# put back the VRs & SRs to the results\n",
    "bkgOnlyFit_results_for_full_model = cabinetry.model_utils.match_fit_results(model, bkgOnlyFit_results)\n",
    "\n",
    "# obtain post-fit model prediction and use it to blind SR data\n",
    "model_pred_postfit = cabinetry.model_utils.prediction(model, fit_results=bkgOnlyFit_results_for_full_model)\n",
    "blinded_data = tools.blind_data(data, config, model_pred_postfit, model)\n",
    "\n",
    "# show post-fit yield table\n",
    "cabinetry.tabulate.yields(model_pred_postfit, blinded_data, per_bin=False, per_channel=True)\n",
    "\n",
    "# visualize agreement\n",
    "tools.plot_pulls(model_pred_postfit, blinded_data, ylim=2, xticks_fontsize=15)"
   ]
  },
  {
   "cell_type": "markdown",
   "metadata": {},
   "source": [
    "Let's assume that the above agreement in the VRs is adequate and look ath the data in SRs. A usual threshold to declare deviation from the background prediction is a significance value of 3."
   ]
  },
  {
   "cell_type": "code",
   "execution_count": 9,
   "metadata": {},
   "outputs": [
    {
     "name": "stderr",
     "output_type": "stream",
     "text": [
      "INFO - cabinetry.tabulate - yields per channel for post-fit model prediction:\n",
      "╒══════════╤════════════════╤══════════════╤═════════════╤══════════════╤═════════════╕\n",
      "│ sample   │ CR-Wy          │ CR-tty       │ SR          │ VR-Wy        │ VR-tty      │\n",
      "╞══════════╪════════════════╪══════════════╪═════════════╪══════════════╪═════════════╡\n",
      "│ Wy       │ 158.75 ± 13.07 │ 9.41 ± 0.79  │ 6.27 ± 0.54 │ 21.49 ± 1.79 │ 1.35 ± 0.13 │\n",
      "├──────────┼────────────────┼──────────────┼─────────────┼──────────────┼─────────────┤\n",
      "│ tty      │ 8.23 ± 1.12    │ 64.60 ± 8.70 │ 3.38 ± 0.47 │ 0.62 ± 0.08  │ 5.57 ± 0.80 │\n",
      "├──────────┼────────────────┼──────────────┼─────────────┼──────────────┼─────────────┤\n",
      "│ total    │ 166.98 ± 12.92 │ 74.01 ± 8.60 │ 9.66 ± 0.67 │ 22.11 ± 1.77 │ 6.92 ± 0.81 │\n",
      "├──────────┼────────────────┼──────────────┼─────────────┼──────────────┼─────────────┤\n",
      "│ data     │ 167.00         │ 74.00        │ 15.00       │ 28.00        │ 12.00       │\n",
      "╘══════════╧════════════════╧══════════════╧═════════════╧══════════════╧═════════════╛\n",
      "INFO - cabinetry.tabulate - saving table as tables/yields_per_channel_post-fit.txt\n"
     ]
    },
    {
     "data": {
      "image/png": "[encoded data removed]",
      "text/plain": [
       "<Figure size 1050x600 with 1 Axes>"
      ]
     },
     "metadata": {},
     "output_type": "display_data"
    }
   ],
   "source": [
    "# show post-fit yield table\n",
    "cabinetry.tabulate.yields(model_pred_postfit, data, per_bin=False, per_channel=True)\n",
    "\n",
    "# visualize agreement\n",
    "tools.plot_pulls(model_pred_postfit, data, ylim=2, xticks_fontsize=15)"
   ]
  },
  {
   "cell_type": "markdown",
   "metadata": {},
   "source": [
    "A useful information is the impact of the various uncertainties to the predicted yields. The code below helps us to calculate and visualize this impact per region considered. It should be noted that the individual uncertainties can be correlated and do not necessarily add up in quadrature to the total background uncertainty."
   ]
  },
  {
   "cell_type": "code",
   "execution_count": 10,
   "metadata": {},
   "outputs": [
    {
     "name": "stderr",
     "output_type": "stream",
     "text": [
      "DEBUG - cabinetry.model_utils - total stdev is [[34.504454460682815], [2.0449753796731045], [1.3634081156047702], [4.6706592353868945], [0.29337784697306546]]\n",
      "DEBUG - cabinetry.model_utils - total stdev per channel is [34.504454460682815, 2.0449753796731045, 1.3634081156047702, 4.6706592353868945, 0.29337784697306546]\n",
      "DEBUG - cabinetry.model_utils - total stdev is [[1.9956868483258177], [15.664823755321255], [0.8208590623793786], [0.15120870415123555], [1.3518062391336603]]\n",
      "DEBUG - cabinetry.model_utils - total stdev per channel is [1.9956868483258177, 15.664823755321255, 0.8208590623793786, 0.15120870415123555, 1.3518062391336603]\n",
      "DEBUG - cabinetry.model_utils - total stdev is [[33.16860724085928], [14.700220194723896], [1.9184084571703168], [4.392411889781211], [1.3754059232855667]]\n",
      "DEBUG - cabinetry.model_utils - total stdev per channel is [33.16860724085928, 14.700220194723896, 1.9184084571703168, 4.392411889781211, 1.3754059232855667]\n",
      "DEBUG - cabinetry.model_utils - total stdev is [[0.9728701149798411], [0.0], [0.0], [0.0], [0.0]]\n",
      "DEBUG - cabinetry.model_utils - total stdev per channel is [0.9728701149798411, 0.0, 0.0, 0.0, 0.0]\n",
      "DEBUG - cabinetry.model_utils - total stdev is [[0.0], [1.0661221452584542], [0.0], [0.0], [0.0]]\n",
      "DEBUG - cabinetry.model_utils - total stdev per channel is [0.0, 1.0661221452584542, 0.0, 0.0, 0.0]\n",
      "DEBUG - cabinetry.model_utils - total stdev is [[0.0], [0.0], [0.23552627421871541], [0.0], [0.0]]\n",
      "DEBUG - cabinetry.model_utils - total stdev per channel is [0.0, 0.0, 0.23552627421871541, 0.0, 0.0]\n",
      "DEBUG - cabinetry.model_utils - total stdev is [[0.0], [0.0], [0.0], [0.21625355156613502], [0.0]]\n",
      "DEBUG - cabinetry.model_utils - total stdev per channel is [0.0, 0.0, 0.0, 0.21625355156613502, 0.0]\n",
      "DEBUG - cabinetry.model_utils - total stdev is [[0.0], [0.0], [0.0], [0.0], [0.30566823555542166]]\n",
      "DEBUG - cabinetry.model_utils - total stdev per channel is [0.0, 0.0, 0.0, 0.0, 0.30566823555542166]\n"
     ]
    },
    {
     "name": "stdout",
     "output_type": "stream",
     "text": [
      " estimating the impact of mu_Wt ...\n",
      " estimating the impact of mu_tty ...\n",
      " estimating the impact of FlatSys ...\n",
      " estimating the impact of staterror_CR-Wy[0] ...\n",
      " estimating the impact of staterror_CR-tty[0] ...\n",
      " estimating the impact of staterror_SR[0] ...\n",
      " estimating the impact of staterror_VR-Wy[0] ...\n",
      " estimating the impact of staterror_VR-tty[0] ...\n",
      "\n",
      "Uncertainties breakdown for CR-Wy\n",
      "NP                  Uncertainty      Rel. Uncertainty (%)\n",
      "------------------  -------------  ----------------------\n",
      "mu_Wt               ±34.5                            20.7\n",
      "FlatSys             ±33.17                           19.9\n",
      "mu_tty              ±2.0                              1.2\n",
      "staterror_CR-Wy[0]  ±0.97                             0.6\n",
      "\n",
      "Uncertainties breakdown for CR-tty\n",
      "NP                   Uncertainty      Rel. Uncertainty (%)\n",
      "-------------------  -------------  ----------------------\n",
      "mu_tty               ±15.66                           21.2\n",
      "FlatSys              ±14.7                            19.9\n",
      "mu_Wt                ±2.04                             2.8\n",
      "staterror_CR-tty[0]  ±1.07                             1.4\n",
      "\n",
      "Uncertainties breakdown for SR\n",
      "NP               Uncertainty      Rel. Uncertainty (%)\n",
      "---------------  -------------  ----------------------\n",
      "FlatSys          ±1.92                            19.9\n",
      "mu_Wt            ±1.36                            14.1\n",
      "mu_tty           ±0.82                             8.5\n",
      "staterror_SR[0]  ±0.24                             2.5\n",
      "\n",
      "Uncertainties breakdown for VR-Wy\n",
      "NP                  Uncertainty      Rel. Uncertainty (%)\n",
      "------------------  -------------  ----------------------\n",
      "mu_Wt               ±4.67                            21.1\n",
      "FlatSys             ±4.39                            19.9\n",
      "staterror_VR-Wy[0]  ±0.22                             1\n",
      "mu_tty              ±0.15                             0.7\n",
      "\n",
      "Uncertainties breakdown for VR-tty\n",
      "NP                   Uncertainty      Rel. Uncertainty (%)\n",
      "-------------------  -------------  ----------------------\n",
      "FlatSys              ±1.38                            19.9\n",
      "mu_tty               ±1.35                            19.5\n",
      "staterror_VR-tty[0]  ±0.31                             4.5\n",
      "mu_Wt                ±0.29                             4.2\n"
     ]
    }
   ],
   "source": [
    "# calculate uncertainties breakdown\n",
    "unc_per_channel = tools.uncertainties_impact_method1(model, bkgOnlyFit_results_for_full_model)\n",
    "\n",
    "# print uncertainties per channel in tables\n",
    "for key in unc_per_channel.keys():\n",
    "    print(f\"\\nUncertainties breakdown for {key}\")\n",
    "    unc_threshold = 0.0\n",
    "    table = tabulate([[label, '±'+str(unc[0]), unc[1]] for label, unc in unc_per_channel[key].items() if unc[0]>unc_threshold], \n",
    "                     headers=['NP', 'Uncertainty', 'Rel. Uncertainty (%)'],\n",
    "                     tablefmt='txt')\n",
    "    print(table)"
   ]
  },
  {
   "cell_type": "markdown",
   "metadata": {},
   "source": [
    "# Exclusion Fit"
   ]
  },
  {
   "cell_type": "markdown",
   "metadata": {},
   "source": [
    "The exclusion fit is used to study a particular signal model. For that fit, both the CRs and SRs are used to extract the normalization factors $\\boldsymbol{\\mu}$ and $\\mu_{\\mathrm{sig}}$. No VRs are used. The POI of the fit is the $\\mu_{\\mathrm{sig}}$ and a test statistic is constructed and used to reject or not the *background-plus-signal* hypothesis against the *background-only* hypothesis. The test statistic used is the profile likelihood ratio [[2](https://doi.org/10.1140/epjc/s10052-011-1554-0)] and a signal model is considered excluded, at 95% Confidence Level, if the resulting CLs value [[3](https://doi.org/10.1088/0954-3899/28/10/313)] is less than 0.05.\n",
    "\n",
    "Below we demonstrate how to setup and perform the background-only fit."
   ]
  },
  {
   "cell_type": "markdown",
   "metadata": {},
   "source": [
    "We will use another configuration file, which also includes a signal model."
   ]
  },
  {
   "cell_type": "code",
   "execution_count": 11,
   "metadata": {},
   "outputs": [
    {
     "name": "stderr",
     "output_type": "stream",
     "text": [
      "INFO - cabinetry.configuration - opening config file configs/config_excl.yml\n",
      "INFO - cabinetry.configuration - the config contains:\n",
      "INFO - cabinetry.configuration -   4 Sample(s)\n",
      "INFO - cabinetry.configuration -   3 Regions(s)\n",
      "INFO - cabinetry.configuration -   3 NormFactor(s)\n",
      "INFO - cabinetry.configuration -   1 Systematic(s)\n"
     ]
    }
   ],
   "source": [
    "config = cabinetry.configuration.load('configs/config_excl.yml')\n",
    "cabinetry.configuration.print_overview(config)"
   ]
  },
  {
   "cell_type": "markdown",
   "metadata": {},
   "source": [
    "As we already have the require histograms available we can directly use them to construct the workspace."
   ]
  },
  {
   "cell_type": "code",
   "execution_count": 12,
   "metadata": {},
   "outputs": [
    {
     "name": "stderr",
     "output_type": "stream",
     "text": [
      "INFO - cabinetry.workspace - building workspace\n",
      "WARNING - cabinetry.histo - the modified histogram histograms/SR_tty_modified.npz does not exist\n",
      "WARNING - cabinetry.histo - loading the un-modified histogram instead!\n",
      "DEBUG - cabinetry.workspace - adding NormFactor mu_tty to sample tty in region SR\n",
      "DEBUG - cabinetry.workspace - adding OverallSys FlatSys to sample tty in region SR\n",
      "WARNING - cabinetry.histo - the modified histogram histograms/SR_Wy_modified.npz does not exist\n",
      "WARNING - cabinetry.histo - loading the un-modified histogram instead!\n",
      "DEBUG - cabinetry.workspace - adding NormFactor mu_Wt to sample Wy in region SR\n",
      "DEBUG - cabinetry.workspace - adding OverallSys FlatSys to sample Wy in region SR\n",
      "WARNING - cabinetry.histo - the modified histogram histograms/SR_Signal_modified.npz does not exist\n",
      "WARNING - cabinetry.histo - loading the un-modified histogram instead!\n",
      "DEBUG - cabinetry.workspace - adding NormFactor mu_Signal to sample Signal in region SR\n",
      "WARNING - cabinetry.histo - the modified histogram histograms/CR-tty_tty_modified.npz does not exist\n",
      "WARNING - cabinetry.histo - loading the un-modified histogram instead!\n",
      "DEBUG - cabinetry.workspace - adding NormFactor mu_tty to sample tty in region CR-tty\n",
      "DEBUG - cabinetry.workspace - adding OverallSys FlatSys to sample tty in region CR-tty\n",
      "WARNING - cabinetry.histo - the modified histogram histograms/CR-tty_Wy_modified.npz does not exist\n",
      "WARNING - cabinetry.histo - loading the un-modified histogram instead!\n",
      "DEBUG - cabinetry.workspace - adding NormFactor mu_Wt to sample Wy in region CR-tty\n",
      "DEBUG - cabinetry.workspace - adding OverallSys FlatSys to sample Wy in region CR-tty\n",
      "WARNING - cabinetry.histo - the modified histogram histograms/CR-tty_Signal_modified.npz does not exist\n",
      "WARNING - cabinetry.histo - loading the un-modified histogram instead!\n",
      "DEBUG - cabinetry.workspace - adding NormFactor mu_Signal to sample Signal in region CR-tty\n",
      "WARNING - cabinetry.histo - the modified histogram histograms/CR-Wy_tty_modified.npz does not exist\n",
      "WARNING - cabinetry.histo - loading the un-modified histogram instead!\n",
      "DEBUG - cabinetry.workspace - adding NormFactor mu_tty to sample tty in region CR-Wy\n",
      "DEBUG - cabinetry.workspace - adding OverallSys FlatSys to sample tty in region CR-Wy\n",
      "WARNING - cabinetry.histo - the modified histogram histograms/CR-Wy_Wy_modified.npz does not exist\n",
      "WARNING - cabinetry.histo - loading the un-modified histogram instead!\n",
      "DEBUG - cabinetry.workspace - adding NormFactor mu_Wt to sample Wy in region CR-Wy\n",
      "DEBUG - cabinetry.workspace - adding OverallSys FlatSys to sample Wy in region CR-Wy\n",
      "WARNING - cabinetry.histo - the modified histogram histograms/CR-Wy_Signal_modified.npz does not exist\n",
      "WARNING - cabinetry.histo - loading the un-modified histogram instead!\n",
      "DEBUG - cabinetry.workspace - adding NormFactor mu_Signal to sample Signal in region CR-Wy\n",
      "WARNING - cabinetry.histo - the modified histogram histograms/SR_Data_modified.npz does not exist\n",
      "WARNING - cabinetry.histo - loading the un-modified histogram instead!\n",
      "WARNING - cabinetry.histo - the modified histogram histograms/CR-tty_Data_modified.npz does not exist\n",
      "WARNING - cabinetry.histo - loading the un-modified histogram instead!\n",
      "WARNING - cabinetry.histo - the modified histogram histograms/CR-Wy_Data_modified.npz does not exist\n",
      "WARNING - cabinetry.histo - loading the un-modified histogram instead!\n",
      "INFO - pyhf.workspace - Validating spec against schema: workspace.json\n"
     ]
    }
   ],
   "source": [
    "ws = cabinetry.workspace.build(config)"
   ]
  },
  {
   "cell_type": "markdown",
   "metadata": {},
   "source": [
    "Print the yields from the workspace."
   ]
  },
  {
   "cell_type": "code",
   "execution_count": 13,
   "metadata": {},
   "outputs": [
    {
     "name": "stderr",
     "output_type": "stream",
     "text": [
      "INFO - pyhf.workspace - Validating spec against schema: workspace.json\n",
      "INFO - pyhf.pdf - Validating spec against schema: model.json\n",
      "INFO - pyhf.pdf - adding modifier mu_Signal (1 new nuisance parameters)\n",
      "INFO - pyhf.pdf - adding modifier mu_Wt (1 new nuisance parameters)\n",
      "INFO - pyhf.pdf - adding modifier mu_tty (1 new nuisance parameters)\n",
      "INFO - pyhf.pdf - adding modifier FlatSys (1 new nuisance parameters)\n",
      "INFO - pyhf.pdf - adding modifier staterror_CR-Wy (1 new nuisance parameters)\n",
      "INFO - pyhf.pdf - adding modifier staterror_CR-tty (1 new nuisance parameters)\n",
      "INFO - pyhf.pdf - adding modifier staterror_SR (1 new nuisance parameters)\n",
      "DEBUG - cabinetry.model_utils - total stdev is [[48.447386566150904], [17.61563114031243], [3.2652844864793433]]\n",
      "DEBUG - cabinetry.model_utils - total stdev per channel is [48.447386566150904, 17.61563114031243, 3.2652844864793433]\n",
      "INFO - cabinetry.tabulate - yields per channel for pre-fit model prediction:\n",
      "╒══════════╤════════════════╤════════════════╤══════════════╕\n",
      "│ sample   │ CR-Wy          │ CR-tty         │ SR           │\n",
      "╞══════════╪════════════════╪════════════════╪══════════════╡\n",
      "│ Signal   │ 16.27 ± 0.11   │ 45.81 ± 0.70   │ 65.25 ± 1.63 │\n",
      "├──────────┼────────────────┼────────────────┼──────────────┤\n",
      "│ Wy       │ 232.70 ± 46.57 │ 13.79 ± 2.77   │ 9.19 ± 1.85  │\n",
      "├──────────┼────────────────┼────────────────┼──────────────┤\n",
      "│ tty      │ 9.39 ± 1.88    │ 73.69 ± 14.78  │ 3.86 ± 0.78  │\n",
      "├──────────┼────────────────┼────────────────┼──────────────┤\n",
      "│ total    │ 258.36 ± 48.45 │ 133.30 ± 17.62 │ 78.31 ± 3.27 │\n",
      "├──────────┼────────────────┼────────────────┼──────────────┤\n",
      "│ data     │ 167.00         │ 74.00          │ 15.00        │\n",
      "╘══════════╧════════════════╧════════════════╧══════════════╛\n",
      "INFO - cabinetry.tabulate - saving table as tables/yields_per_channel_pre-fit.txt\n"
     ]
    },
    {
     "data": {
      "text/plain": [
       "{'yields_per_channel': [{'sample': 'Signal',\n",
       "   'CR-Wy': '16.27 ± 0.11',\n",
       "   'CR-tty': '45.81 ± 0.70',\n",
       "   'SR': '65.25 ± 1.63'},\n",
       "  {'sample': 'Wy',\n",
       "   'CR-Wy': '232.70 ± 46.57',\n",
       "   'CR-tty': '13.79 ± 2.77',\n",
       "   'SR': '9.19 ± 1.85'},\n",
       "  {'sample': 'tty',\n",
       "   'CR-Wy': '9.39 ± 1.88',\n",
       "   'CR-tty': '73.69 ± 14.78',\n",
       "   'SR': '3.86 ± 0.78'},\n",
       "  {'sample': 'total',\n",
       "   'CR-Wy': '258.36 ± 48.45',\n",
       "   'CR-tty': '133.30 ± 17.62',\n",
       "   'SR': '78.31 ± 3.27'},\n",
       "  {'sample': 'data', 'CR-Wy': '167.00', 'CR-tty': '74.00', 'SR': '15.00'}]}"
      ]
     },
     "execution_count": 13,
     "metadata": {},
     "output_type": "execute_result"
    }
   ],
   "source": [
    "# get model and observed data\n",
    "model, data = cabinetry.model_utils.model_and_data(ws)\n",
    "\n",
    "# obtain pre-fit model predictions\n",
    "model_pred_prefit = cabinetry.model_utils.prediction(model)\n",
    "\n",
    "# show yields\n",
    "cabinetry.tabulate.yields(model_pred_prefit, data, per_bin=False, per_channel=True)"
   ]
  },
  {
   "cell_type": "markdown",
   "metadata": {},
   "source": [
    "In order to calculate the so-called *expected* limit, we need to perform a background-only fit (in both CRs and SR this time!) and use the result of it as *observations*, instead of real data. To achieve that, we create a copy of our workspace and then prune the signal sample and its corresponding normalization factor from it. In other words, a background-only workspace, similar as before."
   ]
  },
  {
   "cell_type": "code",
   "execution_count": 14,
   "metadata": {},
   "outputs": [
    {
     "name": "stderr",
     "output_type": "stream",
     "text": [
      "INFO - pyhf.workspace - Validating spec against schema: workspace.json\n",
      "INFO - pyhf.workspace - Validating spec against schema: workspace.json\n",
      "INFO - pyhf.workspace - Validating spec against schema: workspace.json\n",
      "INFO - pyhf.pdf - Validating spec against schema: model.json\n",
      "INFO - pyhf.pdf - adding modifier mu_Wt (1 new nuisance parameters)\n",
      "INFO - pyhf.pdf - adding modifier mu_tty (1 new nuisance parameters)\n",
      "INFO - pyhf.pdf - adding modifier FlatSys (1 new nuisance parameters)\n",
      "INFO - pyhf.pdf - adding modifier staterror_CR-Wy (1 new nuisance parameters)\n",
      "INFO - pyhf.pdf - adding modifier staterror_CR-tty (1 new nuisance parameters)\n",
      "INFO - pyhf.pdf - adding modifier staterror_SR (1 new nuisance parameters)\n",
      "DEBUG - cabinetry.model_utils - total stdev is [[48.4378833253431], [17.54221699646245], [2.6306382184870496]]\n",
      "DEBUG - cabinetry.model_utils - total stdev per channel is [48.4378833253431, 17.54221699646245, 2.6306382184870496]\n",
      "INFO - cabinetry.tabulate - yields per channel for pre-fit model prediction:\n",
      "╒══════════╤════════════════╤═══════════════╤══════════════╕\n",
      "│ sample   │ CR-Wy          │ CR-tty        │ SR           │\n",
      "╞══════════╪════════════════╪═══════════════╪══════════════╡\n",
      "│ Wy       │ 232.70 ± 46.56 │ 13.79 ± 2.77  │ 9.19 ± 1.85  │\n",
      "├──────────┼────────────────┼───────────────┼──────────────┤\n",
      "│ tty      │ 9.39 ± 1.88    │ 73.69 ± 14.78 │ 3.86 ± 0.78  │\n",
      "├──────────┼────────────────┼───────────────┼──────────────┤\n",
      "│ total    │ 242.09 ± 48.44 │ 87.48 ± 17.54 │ 13.06 ± 2.63 │\n",
      "├──────────┼────────────────┼───────────────┼──────────────┤\n",
      "│ data     │ 167.00         │ 74.00         │ 15.00        │\n",
      "╘══════════╧════════════════╧═══════════════╧══════════════╛\n",
      "INFO - cabinetry.tabulate - saving table as tables/yields_per_channel_pre-fit.txt\n"
     ]
    },
    {
     "data": {
      "text/plain": [
       "{'yields_per_channel': [{'sample': 'Wy',\n",
       "   'CR-Wy': '232.70 ± 46.56',\n",
       "   'CR-tty': '13.79 ± 2.77',\n",
       "   'SR': '9.19 ± 1.85'},\n",
       "  {'sample': 'tty',\n",
       "   'CR-Wy': '9.39 ± 1.88',\n",
       "   'CR-tty': '73.69 ± 14.78',\n",
       "   'SR': '3.86 ± 0.78'},\n",
       "  {'sample': 'total',\n",
       "   'CR-Wy': '242.09 ± 48.44',\n",
       "   'CR-tty': '87.48 ± 17.54',\n",
       "   'SR': '13.06 ± 2.63'},\n",
       "  {'sample': 'data', 'CR-Wy': '167.00', 'CR-tty': '74.00', 'SR': '15.00'}]}"
      ]
     },
     "execution_count": 14,
     "metadata": {},
     "output_type": "execute_result"
    }
   ],
   "source": [
    "# prune signal and its normalization factor\n",
    "BOnly_ws = pyhf.Workspace(ws)._prune_and_rename(prune_samples=['Signal'], prune_modifiers=['mu_Signal'])\n",
    "# change POI to one of the background normalization factors\n",
    "dict(BOnly_ws)['measurements'][0]['config']['poi'] = 'mu_tty'\n",
    "\n",
    "# get model and observed data\n",
    "BOnly_model, BOnly_data = cabinetry.model_utils.model_and_data(BOnly_ws)\n",
    "\n",
    "# obtain pre-fit model predictions (background-only)\n",
    "BOnly_model_pred_prefit = cabinetry.model_utils.prediction(BOnly_model)\n",
    "\n",
    "# show post-fit yield table\n",
    "cabinetry.tabulate.yields(BOnly_model_pred_prefit, BOnly_data, per_bin=False, per_channel=True)"
   ]
  },
  {
   "cell_type": "markdown",
   "metadata": {},
   "source": [
    "Now we can perform the background-only fit (in CRs and SR) which will give us the dataset to use as *observations*."
   ]
  },
  {
   "cell_type": "code",
   "execution_count": 15,
   "metadata": {},
   "outputs": [
    {
     "name": "stderr",
     "output_type": "stream",
     "text": [
      "INFO - pyhf.workspace - Validating spec against schema: workspace.json\n",
      "INFO - pyhf.pdf - Validating spec against schema: model.json\n",
      "INFO - pyhf.pdf - adding modifier mu_Wt (1 new nuisance parameters)\n",
      "INFO - pyhf.pdf - adding modifier mu_tty (1 new nuisance parameters)\n",
      "INFO - pyhf.pdf - adding modifier FlatSys (1 new nuisance parameters)\n",
      "INFO - pyhf.pdf - adding modifier staterror_CR-Wy (1 new nuisance parameters)\n",
      "INFO - pyhf.pdf - adding modifier staterror_CR-tty (1 new nuisance parameters)\n",
      "INFO - pyhf.pdf - adding modifier staterror_SR (1 new nuisance parameters)\n",
      "INFO - cabinetry.fit - performing maximum likelihood fit\n",
      "INFO - cabinetry.fit - Migrad status:\n",
      "┌─────────────────────────────────────────────────────────────────────────┐\n",
      "│                                Migrad                                   │\n",
      "├──────────────────────────────────┬──────────────────────────────────────┤\n",
      "│ FCN = 1.203                      │              Nfcn = 203              │\n",
      "│ EDM = 3.95e-06 (Goal: 0.0002)    │                                      │\n",
      "├──────────────────────────────────┼──────────────────────────────────────┤\n",
      "│          Valid Minimum           │        No Parameters at limit        │\n",
      "├──────────────────────────────────┼──────────────────────────────────────┤\n",
      "│ Below EDM threshold (goal x 10)  │           Below call limit           │\n",
      "├───────────────┬──────────────────┼───────────┬─────────────┬────────────┤\n",
      "│  Covariance   │     Hesse ok     │ Accurate  │  Pos. def.  │ Not forced │\n",
      "└───────────────┴──────────────────┴───────────┴─────────────┴────────────┘\n",
      "DEBUG - cabinetry.fit - -2 log(L) = 1.203294 at best-fit point\n",
      "INFO - cabinetry.fit - fit results (with symmetric uncertainties):\n",
      "INFO - cabinetry.fit - mu_Wt               =  0.6954 +/- 0.1508\n",
      "INFO - cabinetry.fit - mu_tty              =  0.9002 +/- 0.2175\n",
      "INFO - cabinetry.fit - FlatSys             = -0.0010 +/- 0.9929\n",
      "INFO - cabinetry.fit - staterror_CR-Wy[0]  =  0.9999 +/- 0.0058\n",
      "INFO - cabinetry.fit - staterror_CR-tty[0] =  0.9996 +/- 0.0144\n",
      "INFO - cabinetry.fit - staterror_SR[0]     =  1.0030 +/- 0.0243\n",
      "INFO - cabinetry.visualize.utils - saving figure as figures/pulls.pdf\n"
     ]
    },
    {
     "data": {
      "image/png": "[encoded data removed]",
      "text/plain": [
       "<Figure size 600x175 with 1 Axes>"
      ]
     },
     "execution_count": 15,
     "metadata": {},
     "output_type": "execute_result"
    }
   ],
   "source": [
    "# get pruned model and pruned observed data\n",
    "BOnly_model, BOnly_data = cabinetry.model_utils.model_and_data(BOnly_ws)\n",
    "\n",
    "# fit and visualize\n",
    "fit_results_BOnly_model = cabinetry.fit.fit(BOnly_model, BOnly_data)\n",
    "cabinetry.visualize.pulls(fit_results_BOnly_model)"
   ]
  },
  {
   "cell_type": "markdown",
   "metadata": {},
   "source": [
    "Use the results of the above fit to build the dataset to be used as *observations*, which is being called *Asimov*. This is retrieved using the best-fit parameters of the above fit."
   ]
  },
  {
   "cell_type": "code",
   "execution_count": 16,
   "metadata": {},
   "outputs": [
    {
     "name": "stdout",
     "output_type": "stream",
     "text": [
      "Asimov dataset (Background-only): [ 1.70213290e+02  7.58797257e+01  9.89787279e+00 -1.04435794e-03\n",
      "  9.99895468e-01  9.99607883e-01  1.00302871e+00]\n"
     ]
    }
   ],
   "source": [
    "asimov_parameters = fit_results_BOnly_model.bestfit\n",
    "asimov_dataset = BOnly_model.expected_data(asimov_parameters)\n",
    "print(\"Asimov dataset (Background-only):\", asimov_dataset)"
   ]
  },
  {
   "cell_type": "markdown",
   "metadata": {},
   "source": [
    "In order to perform the actual exclusion fit we get a model and data objects from the initial workspace, which includes the two backgrounds and the signal, and use `pyhf.infer.hypotest` to calculate the CLs values. For the *expected* we use our Asimov dataset from above and for the *observed* we use the actual data observations."
   ]
  },
  {
   "cell_type": "code",
   "execution_count": 17,
   "metadata": {},
   "outputs": [
    {
     "name": "stderr",
     "output_type": "stream",
     "text": [
      "INFO - pyhf.workspace - Validating spec against schema: workspace.json\n",
      "INFO - pyhf.pdf - Validating spec against schema: model.json\n",
      "INFO - pyhf.pdf - adding modifier mu_Signal (1 new nuisance parameters)\n",
      "INFO - pyhf.pdf - adding modifier mu_Wt (1 new nuisance parameters)\n",
      "INFO - pyhf.pdf - adding modifier mu_tty (1 new nuisance parameters)\n",
      "INFO - pyhf.pdf - adding modifier FlatSys (1 new nuisance parameters)\n",
      "INFO - pyhf.pdf - adding modifier staterror_CR-Wy (1 new nuisance parameters)\n",
      "INFO - pyhf.pdf - adding modifier staterror_CR-tty (1 new nuisance parameters)\n",
      "INFO - pyhf.pdf - adding modifier staterror_SR (1 new nuisance parameters)\n"
     ]
    },
    {
     "name": "stdout",
     "output_type": "stream",
     "text": [
      "Results for POI mu_Signal\n",
      "CLs_exp_band: [1.4187358312997277e-23, 7.508880528393266e-20, 2.769297740437018e-16]\n",
      "CLs_obs: 4.621518505137136e-16\n"
     ]
    }
   ],
   "source": [
    "# get model and observed data (pre-fit)\n",
    "model, data = cabinetry.model_utils.model_and_data(ws)\n",
    "channels = model.config.channels\n",
    "\n",
    "# calculate expected CLs with respect to POI\n",
    "try: # in case the fit fails, we don't crash\n",
    "    _, CLs_exp_band = pyhf.infer.hypotest(1.0, asimov_dataset, model, return_expected_set=True)\n",
    "    # keep only ±1 sigma and convert to simple floats\n",
    "    CLs_exp_band = list(map(lambda x: float(x), CLs_exp_band[1:4]))\n",
    "except:\n",
    "    CLs_exp_band = None\n",
    "\n",
    "# calculate observed CLs with respect to POI\n",
    "try:\n",
    "    CLs_obs = pyhf.infer.hypotest(1.0, data, model)\n",
    "    # convert to simple floats\n",
    "    CLs_obs = float(CLs_obs)\n",
    "except:\n",
    "    CLs_obs = None\n",
    "\n",
    "# print results\n",
    "print(\"Results for POI\", model.config.poi_name)\n",
    "print(\"CLs_exp_band:\", CLs_exp_band)\n",
    "print(\"CLs_obs:\", CLs_obs)"
   ]
  },
  {
   "cell_type": "markdown",
   "metadata": {},
   "source": [
    "## Bonus: from a single model to the whole signal grid"
   ]
  },
  {
   "cell_type": "markdown",
   "metadata": {},
   "source": [
    "Thus far we have calculated the expected and observed CLs values for a single model. However, analyses most often test the hypothesis of multiple models and then interpolate a contour of 0.05 CLs value to draw the usual exclusion limit. An example below from [JHEP 12 (2019) 060](https://link.springer.com/article/10.1007/JHEP12(2019)060), taken from [[4](https://etheses.whiterose.ac.uk/27046/)].\n",
    "\n",
    "![](figures/M60_Grid_contours_M60_RegionA.jpg)\n",
    "\n",
    "We can loop the above procedure to calculate the *observed* and *expected* CLs values for multiple signal models. This can happen via multiple implementations. For this notebook, we use a configuration file that includes multiple signal `Samples` and a corresponding `NormFactor` ($\\mu_{\\mathrm{sig}}$) for each one. The loop fixes all the signal `NormFactors` to zero **but one**, which is set as POI, and the CLs values are calculated. Then it proceeds to the next signal `NormFactor`."
   ]
  },
  {
   "cell_type": "code",
   "execution_count": 18,
   "metadata": {},
   "outputs": [
    {
     "name": "stderr",
     "output_type": "stream",
     "text": [
      "INFO - cabinetry.configuration - opening config file configs/config_excl_grid.yml\n",
      "INFO - cabinetry.configuration - the config contains:\n",
      "INFO - cabinetry.configuration -   7 Sample(s)\n",
      "INFO - cabinetry.configuration -   3 Regions(s)\n",
      "INFO - cabinetry.configuration -   6 NormFactor(s)\n",
      "INFO - cabinetry.configuration -   1 Systematic(s)\n",
      "INFO - cabinetry.workspace - building workspace\n",
      "WARNING - cabinetry.histo - the modified histogram histograms/SR_tty_modified.npz does not exist\n",
      "WARNING - cabinetry.histo - loading the un-modified histogram instead!\n",
      "DEBUG - cabinetry.workspace - adding NormFactor mu_tty to sample tty in region SR\n",
      "DEBUG - cabinetry.workspace - adding OverallSys FlatSys to sample tty in region SR\n",
      "WARNING - cabinetry.histo - the modified histogram histograms/SR_Wy_modified.npz does not exist\n",
      "WARNING - cabinetry.histo - loading the un-modified histogram instead!\n",
      "DEBUG - cabinetry.workspace - adding NormFactor mu_Wt to sample Wy in region SR\n",
      "DEBUG - cabinetry.workspace - adding OverallSys FlatSys to sample Wy in region SR\n",
      "WARNING - cabinetry.histo - the modified histogram histograms/SR_Signal_1000_300_modified.npz does not exist\n",
      "WARNING - cabinetry.histo - loading the un-modified histogram instead!\n",
      "DEBUG - cabinetry.workspace - adding NormFactor mu_Signal_1000_300 to sample Signal_1000_300 in region SR\n",
      "WARNING - cabinetry.histo - the modified histogram histograms/SR_Signal_1000_500_modified.npz does not exist\n",
      "WARNING - cabinetry.histo - loading the un-modified histogram instead!\n",
      "DEBUG - cabinetry.workspace - adding NormFactor mu_Signal_1000_500 to sample Signal_1000_500 in region SR\n",
      "WARNING - cabinetry.histo - the modified histogram histograms/SR_Signal_1500_300_modified.npz does not exist\n",
      "WARNING - cabinetry.histo - loading the un-modified histogram instead!\n",
      "DEBUG - cabinetry.workspace - adding NormFactor mu_Signal_1500_300 to sample Signal_1500_300 in region SR\n",
      "WARNING - cabinetry.histo - the modified histogram histograms/SR_Signal_1500_500_modified.npz does not exist\n",
      "WARNING - cabinetry.histo - loading the un-modified histogram instead!\n",
      "DEBUG - cabinetry.workspace - adding NormFactor mu_Signal_1500_500 to sample Signal_1500_500 in region SR\n",
      "WARNING - cabinetry.histo - the modified histogram histograms/CR-tty_tty_modified.npz does not exist\n",
      "WARNING - cabinetry.histo - loading the un-modified histogram instead!\n",
      "DEBUG - cabinetry.workspace - adding NormFactor mu_tty to sample tty in region CR-tty\n",
      "DEBUG - cabinetry.workspace - adding OverallSys FlatSys to sample tty in region CR-tty\n",
      "WARNING - cabinetry.histo - the modified histogram histograms/CR-tty_Wy_modified.npz does not exist\n",
      "WARNING - cabinetry.histo - loading the un-modified histogram instead!\n",
      "DEBUG - cabinetry.workspace - adding NormFactor mu_Wt to sample Wy in region CR-tty\n",
      "DEBUG - cabinetry.workspace - adding OverallSys FlatSys to sample Wy in region CR-tty\n",
      "WARNING - cabinetry.histo - the modified histogram histograms/CR-tty_Signal_1000_300_modified.npz does not exist\n",
      "WARNING - cabinetry.histo - loading the un-modified histogram instead!\n",
      "DEBUG - cabinetry.workspace - adding NormFactor mu_Signal_1000_300 to sample Signal_1000_300 in region CR-tty\n",
      "WARNING - cabinetry.histo - the modified histogram histograms/CR-tty_Signal_1000_500_modified.npz does not exist\n",
      "WARNING - cabinetry.histo - loading the un-modified histogram instead!\n",
      "DEBUG - cabinetry.workspace - adding NormFactor mu_Signal_1000_500 to sample Signal_1000_500 in region CR-tty\n",
      "WARNING - cabinetry.histo - the modified histogram histograms/CR-tty_Signal_1500_300_modified.npz does not exist\n",
      "WARNING - cabinetry.histo - loading the un-modified histogram instead!\n",
      "DEBUG - cabinetry.workspace - adding NormFactor mu_Signal_1500_300 to sample Signal_1500_300 in region CR-tty\n",
      "WARNING - cabinetry.histo - the modified histogram histograms/CR-tty_Signal_1500_500_modified.npz does not exist\n",
      "WARNING - cabinetry.histo - loading the un-modified histogram instead!\n",
      "DEBUG - cabinetry.workspace - adding NormFactor mu_Signal_1500_500 to sample Signal_1500_500 in region CR-tty\n",
      "WARNING - cabinetry.histo - the modified histogram histograms/CR-Wy_tty_modified.npz does not exist\n",
      "WARNING - cabinetry.histo - loading the un-modified histogram instead!\n",
      "DEBUG - cabinetry.workspace - adding NormFactor mu_tty to sample tty in region CR-Wy\n",
      "DEBUG - cabinetry.workspace - adding OverallSys FlatSys to sample tty in region CR-Wy\n",
      "WARNING - cabinetry.histo - the modified histogram histograms/CR-Wy_Wy_modified.npz does not exist\n",
      "WARNING - cabinetry.histo - loading the un-modified histogram instead!\n",
      "DEBUG - cabinetry.workspace - adding NormFactor mu_Wt to sample Wy in region CR-Wy\n",
      "DEBUG - cabinetry.workspace - adding OverallSys FlatSys to sample Wy in region CR-Wy\n",
      "WARNING - cabinetry.histo - the modified histogram histograms/CR-Wy_Signal_1000_300_modified.npz does not exist\n",
      "WARNING - cabinetry.histo - loading the un-modified histogram instead!\n",
      "DEBUG - cabinetry.workspace - adding NormFactor mu_Signal_1000_300 to sample Signal_1000_300 in region CR-Wy\n",
      "WARNING - cabinetry.histo - the modified histogram histograms/CR-Wy_Signal_1000_500_modified.npz does not exist\n",
      "WARNING - cabinetry.histo - loading the un-modified histogram instead!\n",
      "DEBUG - cabinetry.workspace - adding NormFactor mu_Signal_1000_500 to sample Signal_1000_500 in region CR-Wy\n",
      "WARNING - cabinetry.histo - the modified histogram histograms/CR-Wy_Signal_1500_300_modified.npz does not exist\n",
      "WARNING - cabinetry.histo - loading the un-modified histogram instead!\n",
      "DEBUG - cabinetry.workspace - adding NormFactor mu_Signal_1500_300 to sample Signal_1500_300 in region CR-Wy\n",
      "WARNING - cabinetry.histo - the modified histogram histograms/CR-Wy_Signal_1500_500_modified.npz does not exist\n",
      "WARNING - cabinetry.histo - loading the un-modified histogram instead!\n",
      "DEBUG - cabinetry.workspace - adding NormFactor mu_Signal_1500_500 to sample Signal_1500_500 in region CR-Wy\n",
      "WARNING - cabinetry.histo - the modified histogram histograms/SR_Data_modified.npz does not exist\n",
      "WARNING - cabinetry.histo - loading the un-modified histogram instead!\n",
      "WARNING - cabinetry.histo - the modified histogram histograms/CR-tty_Data_modified.npz does not exist\n",
      "WARNING - cabinetry.histo - loading the un-modified histogram instead!\n",
      "WARNING - cabinetry.histo - the modified histogram histograms/CR-Wy_Data_modified.npz does not exist\n",
      "WARNING - cabinetry.histo - loading the un-modified histogram instead!\n",
      "INFO - pyhf.workspace - Validating spec against schema: workspace.json\n"
     ]
    }
   ],
   "source": [
    "# load configuration files\n",
    "config_grid = cabinetry.configuration.load('configs/config_excl_grid.yml')\n",
    "cabinetry.configuration.print_overview(config_grid)\n",
    "\n",
    "# create workspace\n",
    "ws_grid = cabinetry.workspace.build(config_grid)"
   ]
  },
  {
   "cell_type": "markdown",
   "metadata": {},
   "source": [
    "The for-loop which is running the exclusion fit for each of the signal samples/normalization factors defined in our workspace is constructed below. Initially we get a `model` from our workspace, which includes all the signal samples/normalization factors. Then the `fix_and_calculate` function is used in each iteration of the loop. The function fixes all the `model` parameters except of the one given as argument (`param`) and calculates the CLs values (*observed* and *expected*) for that particular parameter. The results are collected in a dictionary."
   ]
  },
  {
   "cell_type": "code",
   "execution_count": 19,
   "metadata": {},
   "outputs": [
    {
     "name": "stderr",
     "output_type": "stream",
     "text": [
      "INFO - pyhf.workspace - Validating spec against schema: workspace.json\n",
      "INFO - pyhf.pdf - Validating spec against schema: model.json\n",
      "INFO - pyhf.pdf - adding modifier mu_Signal_1000_300 (1 new nuisance parameters)\n",
      "INFO - pyhf.pdf - adding modifier mu_Signal_1000_500 (1 new nuisance parameters)\n",
      "INFO - pyhf.pdf - adding modifier mu_Signal_1500_300 (1 new nuisance parameters)\n",
      "INFO - pyhf.pdf - adding modifier mu_Signal_1500_500 (1 new nuisance parameters)\n",
      "INFO - pyhf.pdf - adding modifier mu_Wt (1 new nuisance parameters)\n",
      "INFO - pyhf.pdf - adding modifier mu_tty (1 new nuisance parameters)\n",
      "INFO - pyhf.pdf - adding modifier FlatSys (1 new nuisance parameters)\n",
      "INFO - pyhf.pdf - adding modifier staterror_CR-Wy (1 new nuisance parameters)\n",
      "INFO - pyhf.pdf - adding modifier staterror_CR-tty (1 new nuisance parameters)\n",
      "INFO - pyhf.pdf - adding modifier staterror_SR (1 new nuisance parameters)\n"
     ]
    },
    {
     "name": "stdout",
     "output_type": "stream",
     "text": [
      "Calculating observed and explected CLs of 4 models on a pool of 96 workers\n",
      "Calculating observed and explected CLs for POI mu_Signal_1000_300\n",
      "Calculating observed and explected CLs for POI mu_Signal_1000_500\n",
      "Calculating observed and explected CLs for POI mu_Signal_1500_300\n",
      "Calculating observed and explected CLs for POI mu_Signal_1500_500\n"
     ]
    }
   ],
   "source": [
    "# get model and observed data (pre-fit)\n",
    "model, data = cabinetry.model_utils.model_and_data(ws_grid)\n",
    "channels = model.config.channels\n",
    "\n",
    "# signal normalisation parameter names\n",
    "signal_norms = [param for param in model.config.par_names if 'mu_Signal' in param]\n",
    "# signal normalisation parameter model indices\n",
    "signal_norms_idx = [model.config.par_map[norm]['slice'].start for norm in signal_norms]\n",
    "\n",
    "def fix_and_calculate(param):\n",
    "    '''\n",
    "    Fix all signal normalisation parameters to zero except the one specified by param\n",
    "    '''\n",
    "    \n",
    "    print(f\"Calculating observed and explected CLs for POI {param}\")\n",
    "    \n",
    "    # get the index of the param, this will be the new POI\n",
    "    poi_idx = cabinetry.model_utils._poi_index(model, poi_name=param)\n",
    "    # set POI to param\n",
    "    model.config.set_poi(model.config.par_names[poi_idx])\n",
    "    \n",
    "    # indices of all the signal normalisation parameters except the poi_idx\n",
    "    fixed_signal_norms_idx = [idx for idx in signal_norms_idx if idx!=poi_idx]\n",
    "\n",
    "    # set the rest or signal normalisation parameters fixed at zero\n",
    "    fix_pars = model.config.suggested_fixed().copy()\n",
    "    init_pars = model.config.suggested_init().copy()\n",
    "    for idx in fixed_signal_norms_idx:\n",
    "        fix_pars[idx] = True\n",
    "        init_pars[idx] = 0.0\n",
    "\n",
    "    # calculate expected CLs with respect to POI\n",
    "    try:\n",
    "        _, CLs_exp_band = pyhf.infer.hypotest(1.0, asimov_dataset, model, init_pars=init_pars, fixed_params=fix_pars, return_expected_set=True)\n",
    "        # keep only ±1 sigma and convert to simple floats\n",
    "        CLs_exp_band = list(map(lambda x: float(x), CLs_exp_band[1:4]))\n",
    "    except:\n",
    "        CLs_exp_band = None\n",
    "\n",
    "    # calculate observed CLs with respect to POI\n",
    "    try:\n",
    "        CLs_obs = pyhf.infer.hypotest(1.0, data, model, init_pars=init_pars, fixed_params=fix_pars)\n",
    "        # convert to simple floats\n",
    "        CLs_obs = float(CLs_obs)\n",
    "    except:\n",
    "        CLs_obs = None\n",
    "\n",
    "    return [CLs_obs, CLs_exp_band]\n",
    "\n",
    "# results dictionary\n",
    "post_fit_significance_results = {}\n",
    "\n",
    "# create a pool of workers for parallel looping\n",
    "with ProcessPoolExecutor() as executor:\n",
    "    print(f\"Calculating observed and explected CLs of {len(signal_norms)} models on a pool of {executor._max_workers} workers\")\n",
    "    # loop: pick one signal parameter, fix the rest to zero, calculate CLs\n",
    "    for param in signal_norms:\n",
    "        # submit the job to the pool\n",
    "        future = executor.submit(fix_and_calculate, param)\n",
    "        # save the returned future object into the results dictionary\n",
    "        post_fit_significance_results[param] = future"
   ]
  },
  {
   "cell_type": "markdown",
   "metadata": {},
   "source": [
    "We use the helper function `get_results_df` to convert the results dictionary to a `pd.DataFrame` for easier further handling."
   ]
  },
  {
   "cell_type": "code",
   "execution_count": 20,
   "metadata": {},
   "outputs": [
    {
     "data": {
      "text/html": [
       "<div>\n",
       "<style scoped>\n",
       "    .dataframe tbody tr th:only-of-type {\n",
       "        vertical-align: middle;\n",
       "    }\n",
       "\n",
       "    .dataframe tbody tr th {\n",
       "        vertical-align: top;\n",
       "    }\n",
       "\n",
       "    .dataframe thead th {\n",
       "        text-align: right;\n",
       "    }\n",
       "</style>\n",
       "<table border=\"1\" class=\"dataframe\">\n",
       "  <thead>\n",
       "    <tr style=\"text-align: right;\">\n",
       "      <th></th>\n",
       "      <th>Sq</th>\n",
       "      <th>Hplus</th>\n",
       "      <th>DeltaM</th>\n",
       "      <th>observed_p_value</th>\n",
       "      <th>expected_p_value</th>\n",
       "      <th>expected_p_value_plusOneSigma</th>\n",
       "      <th>expected_p_value_minusOneSigma</th>\n",
       "      <th>observed_signif</th>\n",
       "      <th>expected_signif</th>\n",
       "      <th>expected_signif_plusOneSigma</th>\n",
       "      <th>expected_signif_minusOneSigma</th>\n",
       "    </tr>\n",
       "  </thead>\n",
       "  <tbody>\n",
       "    <tr>\n",
       "      <th>0</th>\n",
       "      <td>1000</td>\n",
       "      <td>300</td>\n",
       "      <td>700</td>\n",
       "      <td>3.086775e-16</td>\n",
       "      <td>4.625685e-20</td>\n",
       "      <td>1.796494e-16</td>\n",
       "      <td>8.298403e-24</td>\n",
       "      <td>8.085843</td>\n",
       "      <td>9.097408</td>\n",
       "      <td>8.151547</td>\n",
       "      <td>9.991549</td>\n",
       "    </tr>\n",
       "    <tr>\n",
       "      <th>1</th>\n",
       "      <td>1000</td>\n",
       "      <td>500</td>\n",
       "      <td>500</td>\n",
       "      <td>2.693752e-07</td>\n",
       "      <td>4.994624e-10</td>\n",
       "      <td>1.067496e-07</td>\n",
       "      <td>1.647159e-12</td>\n",
       "      <td>5.011972</td>\n",
       "      <td>6.109582</td>\n",
       "      <td>5.187183</td>\n",
       "      <td>6.964560</td>\n",
       "    </tr>\n",
       "    <tr>\n",
       "      <th>2</th>\n",
       "      <td>1500</td>\n",
       "      <td>300</td>\n",
       "      <td>1200</td>\n",
       "      <td>5.428994e-01</td>\n",
       "      <td>1.577974e-01</td>\n",
       "      <td>4.040909e-01</td>\n",
       "      <td>4.992820e-02</td>\n",
       "      <td>-0.107741</td>\n",
       "      <td>1.003552</td>\n",
       "      <td>0.242772</td>\n",
       "      <td>1.645550</td>\n",
       "    </tr>\n",
       "    <tr>\n",
       "      <th>3</th>\n",
       "      <td>1500</td>\n",
       "      <td>500</td>\n",
       "      <td>1000</td>\n",
       "      <td>5.493469e-01</td>\n",
       "      <td>1.794045e-01</td>\n",
       "      <td>4.349622e-01</td>\n",
       "      <td>6.035215e-02</td>\n",
       "      <td>-0.124011</td>\n",
       "      <td>0.917637</td>\n",
       "      <td>0.163755</td>\n",
       "      <td>1.551824</td>\n",
       "    </tr>\n",
       "  </tbody>\n",
       "</table>\n",
       "</div>"
      ],
      "text/plain": [
       "     Sq  Hplus  DeltaM  observed_p_value  expected_p_value  \\\n",
       "0  1000    300     700      3.086775e-16      4.625685e-20   \n",
       "1  1000    500     500      2.693752e-07      4.994624e-10   \n",
       "2  1500    300    1200      5.428994e-01      1.577974e-01   \n",
       "3  1500    500    1000      5.493469e-01      1.794045e-01   \n",
       "\n",
       "   expected_p_value_plusOneSigma  expected_p_value_minusOneSigma  \\\n",
       "0                   1.796494e-16                    8.298403e-24   \n",
       "1                   1.067496e-07                    1.647159e-12   \n",
       "2                   4.040909e-01                    4.992820e-02   \n",
       "3                   4.349622e-01                    6.035215e-02   \n",
       "\n",
       "   observed_signif  expected_signif  expected_signif_plusOneSigma  \\\n",
       "0         8.085843         9.097408                      8.151547   \n",
       "1         5.011972         6.109582                      5.187183   \n",
       "2        -0.107741         1.003552                      0.242772   \n",
       "3        -0.124011         0.917637                      0.163755   \n",
       "\n",
       "   expected_signif_minusOneSigma  \n",
       "0                       9.991549  \n",
       "1                       6.964560  \n",
       "2                       1.645550  \n",
       "3                       1.551824  "
      ]
     },
     "metadata": {},
     "output_type": "display_data"
    }
   ],
   "source": [
    "postfit_results_df = tools.get_results_df(post_fit_significance_results)\n",
    "display(postfit_results_df)"
   ]
  },
  {
   "cell_type": "markdown",
   "metadata": {},
   "source": [
    "Using information from the above DataFrame we can make a plot to visualize, for instance, the observed CLs/limit."
   ]
  },
  {
   "cell_type": "code",
   "execution_count": 21,
   "metadata": {},
   "outputs": [
    {
     "name": "stderr",
     "output_type": "stream",
     "text": [
      "/tmp/ipykernel_61123/4023449284.py:1: FutureWarning: In a future version of pandas all arguments of DataFrame.pivot will be keyword-only.\n",
      "  pivoted = postfit_results_df.pivot('Hplus','Sq','observed_p_value').iloc[::-1]\n"
     ]
    },
    {
     "data": {
      "text/plain": [
       "Text(50.722222222222214, 0.5, '$m(H^{\\\\pm})$ [GeV]')"
      ]
     },
     "execution_count": 21,
     "metadata": {},
     "output_type": "execute_result"
    },
    {
     "data": {
      "image/png": "[encoded data removed]",
      "text/plain": [
       "<Figure size 640x480 with 1 Axes>"
      ]
     },
     "metadata": {},
     "output_type": "display_data"
    }
   ],
   "source": [
    "pivoted = postfit_results_df.pivot('Hplus','Sq','observed_p_value').iloc[::-1]\n",
    "sns.heatmap(pivoted, annot=True, annot_kws={'size': 12}, cbar=False)\n",
    "plt.title(\"Observed CLs values\")\n",
    "plt.xlabel(r'$m(\\tilde{q})$ [GeV]')\n",
    "plt.ylabel(r'$m(H^{\\pm})$ [GeV]')"
   ]
  },
  {
   "cell_type": "markdown",
   "metadata": {},
   "source": [
    "# Discovery Fit"
   ]
  },
  {
   "cell_type": "markdown",
   "metadata": {},
   "source": [
    "The discovery fit proceeds generally in the same manner as the as the exclusion fit. The main difference is that the signal model is now a *dummy* model yielding exactly one event in the SR, when $\\mu_{\\mathrm{sig}}=1$, and zero events in the CRs. The likelihood is fit again in both SRs and CRs. Multiple fits are performed while scanning the $\\mu_{\\mathrm{sig}}$, which is a fixed parameter of the fit. The value of $\\mu_{\\mathrm{sig}}$ which yields a CLs value of 0.05 is then evaluated and can be converted to an Upper Limit (UL) on the number of events or visible cross-section of a generic BSM process. "
   ]
  },
  {
   "cell_type": "markdown",
   "metadata": {},
   "source": [
    "Load the configuration file and create a workspace from that."
   ]
  },
  {
   "cell_type": "code",
   "execution_count": 22,
   "metadata": {},
   "outputs": [
    {
     "name": "stderr",
     "output_type": "stream",
     "text": [
      "INFO - cabinetry.configuration - opening config file configs/config_disc.yml\n",
      "INFO - cabinetry.configuration - the config contains:\n",
      "INFO - cabinetry.configuration -   4 Sample(s)\n",
      "INFO - cabinetry.configuration -   3 Regions(s)\n",
      "INFO - cabinetry.configuration -   3 NormFactor(s)\n",
      "INFO - cabinetry.configuration -   1 Systematic(s)\n",
      "INFO - cabinetry.workspace - building workspace\n",
      "WARNING - cabinetry.histo - the modified histogram histograms/SR_tty_modified.npz does not exist\n",
      "WARNING - cabinetry.histo - loading the un-modified histogram instead!\n",
      "DEBUG - cabinetry.workspace - adding NormFactor mu_tty to sample tty in region SR\n",
      "DEBUG - cabinetry.workspace - adding OverallSys FlatSys to sample tty in region SR\n",
      "WARNING - cabinetry.histo - the modified histogram histograms/SR_Wy_modified.npz does not exist\n",
      "WARNING - cabinetry.histo - loading the un-modified histogram instead!\n",
      "DEBUG - cabinetry.workspace - adding NormFactor mu_Wt to sample Wy in region SR\n",
      "DEBUG - cabinetry.workspace - adding OverallSys FlatSys to sample Wy in region SR\n",
      "WARNING - cabinetry.histo - the modified histogram histograms/SR_Signal_modified.npz does not exist\n",
      "WARNING - cabinetry.histo - loading the un-modified histogram instead!\n",
      "DEBUG - cabinetry.workspace - adding NormFactor mu_Signal to sample Signal in region SR\n",
      "WARNING - cabinetry.histo - the modified histogram histograms/CR-tty_tty_modified.npz does not exist\n",
      "WARNING - cabinetry.histo - loading the un-modified histogram instead!\n",
      "DEBUG - cabinetry.workspace - adding NormFactor mu_tty to sample tty in region CR-tty\n",
      "DEBUG - cabinetry.workspace - adding OverallSys FlatSys to sample tty in region CR-tty\n",
      "WARNING - cabinetry.histo - the modified histogram histograms/CR-tty_Wy_modified.npz does not exist\n",
      "WARNING - cabinetry.histo - loading the un-modified histogram instead!\n",
      "DEBUG - cabinetry.workspace - adding NormFactor mu_Wt to sample Wy in region CR-tty\n",
      "DEBUG - cabinetry.workspace - adding OverallSys FlatSys to sample Wy in region CR-tty\n",
      "WARNING - cabinetry.histo - the modified histogram histograms/CR-Wy_tty_modified.npz does not exist\n",
      "WARNING - cabinetry.histo - loading the un-modified histogram instead!\n",
      "DEBUG - cabinetry.workspace - adding NormFactor mu_tty to sample tty in region CR-Wy\n",
      "DEBUG - cabinetry.workspace - adding OverallSys FlatSys to sample tty in region CR-Wy\n",
      "WARNING - cabinetry.histo - the modified histogram histograms/CR-Wy_Wy_modified.npz does not exist\n",
      "WARNING - cabinetry.histo - loading the un-modified histogram instead!\n",
      "DEBUG - cabinetry.workspace - adding NormFactor mu_Wt to sample Wy in region CR-Wy\n",
      "DEBUG - cabinetry.workspace - adding OverallSys FlatSys to sample Wy in region CR-Wy\n",
      "WARNING - cabinetry.histo - the modified histogram histograms/SR_Data_modified.npz does not exist\n",
      "WARNING - cabinetry.histo - loading the un-modified histogram instead!\n",
      "WARNING - cabinetry.histo - the modified histogram histograms/CR-tty_Data_modified.npz does not exist\n",
      "WARNING - cabinetry.histo - loading the un-modified histogram instead!\n",
      "WARNING - cabinetry.histo - the modified histogram histograms/CR-Wy_Data_modified.npz does not exist\n",
      "WARNING - cabinetry.histo - loading the un-modified histogram instead!\n",
      "INFO - pyhf.workspace - Validating spec against schema: workspace.json\n"
     ]
    }
   ],
   "source": [
    "config = cabinetry.configuration.load('configs/config_disc.yml')\n",
    "cabinetry.configuration.print_overview(config)\n",
    "ws = cabinetry.workspace.build(config)"
   ]
  },
  {
   "cell_type": "markdown",
   "metadata": {},
   "source": [
    "Since with the `config_disc.yml` we loaded an actual signal model, we need to convert that to the *dummy* one described above using the helper function below."
   ]
  },
  {
   "cell_type": "code",
   "execution_count": 23,
   "metadata": {},
   "outputs": [],
   "source": [
    "ws = tools.force_signal_yield_to_one(ws, config)"
   ]
  },
  {
   "cell_type": "markdown",
   "metadata": {},
   "source": [
    "As a verification, we can check that the signal yield in SR is indeed 1.0, while 0.0 in CRs."
   ]
  },
  {
   "cell_type": "code",
   "execution_count": 24,
   "metadata": {},
   "outputs": [
    {
     "name": "stderr",
     "output_type": "stream",
     "text": [
      "INFO - pyhf.workspace - Validating spec against schema: workspace.json\n",
      "INFO - pyhf.pdf - Validating spec against schema: model.json\n",
      "INFO - pyhf.pdf - adding modifier mu_Wt (1 new nuisance parameters)\n",
      "INFO - pyhf.pdf - adding modifier mu_tty (1 new nuisance parameters)\n",
      "INFO - pyhf.pdf - adding modifier mu_Signal (1 new nuisance parameters)\n",
      "INFO - pyhf.pdf - adding modifier FlatSys (1 new nuisance parameters)\n",
      "INFO - pyhf.pdf - adding modifier staterror_CR-Wy (1 new nuisance parameters)\n",
      "INFO - pyhf.pdf - adding modifier staterror_CR-tty (1 new nuisance parameters)\n",
      "INFO - pyhf.pdf - adding modifier staterror_SR (1 new nuisance parameters)\n",
      "DEBUG - cabinetry.model_utils - total stdev is [[48.4378833253431], [17.54221699646245], [2.6306382184870487]]\n",
      "DEBUG - cabinetry.model_utils - total stdev per channel is [48.4378833253431, 17.54221699646245, 2.6306382184870487]\n",
      "INFO - cabinetry.tabulate - yields per channel for pre-fit model prediction:\n",
      "╒══════════╤════════════════╤═══════════════╤══════════════╕\n",
      "│ sample   │ CR-Wy          │ CR-tty        │ SR           │\n",
      "╞══════════╪════════════════╪═══════════════╪══════════════╡\n",
      "│ Signal   │ 0.00 ± 0.00    │ 0.00 ± 0.00   │ 1.00 ± 0.00  │\n",
      "├──────────┼────────────────┼───────────────┼──────────────┤\n",
      "│ Wy       │ 232.70 ± 46.56 │ 13.79 ± 2.77  │ 9.19 ± 1.85  │\n",
      "├──────────┼────────────────┼───────────────┼──────────────┤\n",
      "│ tty      │ 9.39 ± 1.88    │ 73.69 ± 14.78 │ 3.86 ± 0.78  │\n",
      "├──────────┼────────────────┼───────────────┼──────────────┤\n",
      "│ total    │ 242.09 ± 48.44 │ 87.48 ± 17.54 │ 14.06 ± 2.63 │\n",
      "├──────────┼────────────────┼───────────────┼──────────────┤\n",
      "│ data     │ 167.00         │ 74.00         │ 15.00        │\n",
      "╘══════════╧════════════════╧═══════════════╧══════════════╛\n",
      "INFO - cabinetry.tabulate - saving table as tables/yields_per_channel_pre-fit.txt\n"
     ]
    },
    {
     "data": {
      "text/plain": [
       "{'yields_per_channel': [{'sample': 'Signal',\n",
       "   'CR-Wy': '0.00 ± 0.00',\n",
       "   'CR-tty': '0.00 ± 0.00',\n",
       "   'SR': '1.00 ± 0.00'},\n",
       "  {'sample': 'Wy',\n",
       "   'CR-Wy': '232.70 ± 46.56',\n",
       "   'CR-tty': '13.79 ± 2.77',\n",
       "   'SR': '9.19 ± 1.85'},\n",
       "  {'sample': 'tty',\n",
       "   'CR-Wy': '9.39 ± 1.88',\n",
       "   'CR-tty': '73.69 ± 14.78',\n",
       "   'SR': '3.86 ± 0.78'},\n",
       "  {'sample': 'total',\n",
       "   'CR-Wy': '242.09 ± 48.44',\n",
       "   'CR-tty': '87.48 ± 17.54',\n",
       "   'SR': '14.06 ± 2.63'},\n",
       "  {'sample': 'data', 'CR-Wy': '167.00', 'CR-tty': '74.00', 'SR': '15.00'}]}"
      ]
     },
     "execution_count": 24,
     "metadata": {},
     "output_type": "execute_result"
    }
   ],
   "source": [
    "# get model and observed data\n",
    "model, data = cabinetry.model_utils.model_and_data(ws)\n",
    "\n",
    "# obtain pre-fit model predictions\n",
    "model_pred_prefit = cabinetry.model_utils.prediction(model)\n",
    "\n",
    "# show yields\n",
    "cabinetry.tabulate.yields(model_pred_prefit, data, per_bin=False, per_channel=True)"
   ]
  },
  {
   "cell_type": "markdown",
   "metadata": {},
   "source": [
    "We setup the discovery fit in a similar manner to the exclusion fit (for a single model). Using the `pyhf.infer.intervals.upper_limits.upper_limit` we can perform multiple fits, each time with another fixed value of the $\\mu_{\\mathrm{sig}}$, and thus calculate multple CLs values."
   ]
  },
  {
   "cell_type": "code",
   "execution_count": 25,
   "metadata": {},
   "outputs": [],
   "source": [
    "# define a search space for the POI\n",
    "upper_bound = 30\n",
    "granularity = 30\n",
    "scan = np.linspace(0, upper_bound, granularity+1)\n",
    "\n",
    "# calculate the observed UL on BSM events at 95% CL\n",
    "obs_limit, _, (scan, obs_results) = pyhf.infer.intervals.upper_limits.upper_limit(data, model, scan, return_results=True)"
   ]
  },
  {
   "cell_type": "markdown",
   "metadata": {},
   "source": [
    "For the *expected* limit, once again, we first need a background-only fit to get the best-fit parameters and construct an Asimov dataset which is gonna be used as *observations*."
   ]
  },
  {
   "cell_type": "code",
   "execution_count": 26,
   "metadata": {},
   "outputs": [
    {
     "name": "stderr",
     "output_type": "stream",
     "text": [
      "INFO - pyhf.workspace - Validating spec against schema: workspace.json\n",
      "INFO - pyhf.workspace - Validating spec against schema: workspace.json\n",
      "INFO - pyhf.workspace - Validating spec against schema: workspace.json\n",
      "INFO - pyhf.pdf - Validating spec against schema: model.json\n",
      "INFO - pyhf.pdf - adding modifier mu_Wt (1 new nuisance parameters)\n",
      "INFO - pyhf.pdf - adding modifier mu_tty (1 new nuisance parameters)\n",
      "INFO - pyhf.pdf - adding modifier FlatSys (1 new nuisance parameters)\n",
      "INFO - pyhf.pdf - adding modifier staterror_CR-Wy (1 new nuisance parameters)\n",
      "INFO - pyhf.pdf - adding modifier staterror_CR-tty (1 new nuisance parameters)\n",
      "INFO - pyhf.pdf - adding modifier staterror_SR (1 new nuisance parameters)\n",
      "INFO - cabinetry.fit - performing maximum likelihood fit\n",
      "INFO - cabinetry.fit - Migrad status:\n",
      "┌─────────────────────────────────────────────────────────────────────────┐\n",
      "│                                Migrad                                   │\n",
      "├──────────────────────────────────┬──────────────────────────────────────┤\n",
      "│ FCN = 1.203                      │              Nfcn = 203              │\n",
      "│ EDM = 3.95e-06 (Goal: 0.0002)    │                                      │\n",
      "├──────────────────────────────────┼──────────────────────────────────────┤\n",
      "│          Valid Minimum           │        No Parameters at limit        │\n",
      "├──────────────────────────────────┼──────────────────────────────────────┤\n",
      "│ Below EDM threshold (goal x 10)  │           Below call limit           │\n",
      "├───────────────┬──────────────────┼───────────┬─────────────┬────────────┤\n",
      "│  Covariance   │     Hesse ok     │ Accurate  │  Pos. def.  │ Not forced │\n",
      "└───────────────┴──────────────────┴───────────┴─────────────┴────────────┘\n",
      "DEBUG - cabinetry.fit - -2 log(L) = 1.203294 at best-fit point\n",
      "INFO - cabinetry.fit - fit results (with symmetric uncertainties):\n",
      "INFO - cabinetry.fit - mu_Wt               =  0.6954 +/- 0.1508\n",
      "INFO - cabinetry.fit - mu_tty              =  0.9002 +/- 0.2175\n",
      "INFO - cabinetry.fit - FlatSys             = -0.0010 +/- 0.9929\n",
      "INFO - cabinetry.fit - staterror_CR-Wy[0]  =  0.9999 +/- 0.0058\n",
      "INFO - cabinetry.fit - staterror_CR-tty[0] =  0.9996 +/- 0.0144\n",
      "INFO - cabinetry.fit - staterror_SR[0]     =  1.0030 +/- 0.0243\n"
     ]
    }
   ],
   "source": [
    "# prune signal and its normalization factor\n",
    "BOnly_ws = pyhf.Workspace(ws)._prune_and_rename(prune_samples=['Signal'], prune_modifiers=['mu_Signal'])\n",
    "# change POI to one of the background normalization factors\n",
    "dict(BOnly_ws)['measurements'][0]['config']['poi'] = 'mu_tty'\n",
    "\n",
    "# get pruned model and pruned observed data\n",
    "BOnly_model, BOnly_data = cabinetry.model_utils.model_and_data(BOnly_ws)\n",
    "\n",
    "# fit and visualize\n",
    "fit_results_BOnly_model = cabinetry.fit.fit(BOnly_model, BOnly_data)\n",
    "\n",
    "# build an Asimov dataset: all parameters set to their best-fit values from previous fit results\n",
    "asimov_parameters = fit_results_BOnly_model.bestfit\n",
    "asimov_dataset = BOnly_model.expected_data(asimov_parameters)\n",
    "\n",
    "# calculate the expected ULs\n",
    "_, exp_limits, (scan, exp_results) = pyhf.infer.intervals.upper_limits.upper_limit(asimov_dataset, model, scan, return_results=True)"
   ]
  },
  {
   "cell_type": "markdown",
   "metadata": {},
   "source": [
    "Finally, it is also common to calculate the so-called *discovery* p-value and significance which quantify the compatibility of the observed data with the background-only hypothesis."
   ]
  },
  {
   "cell_type": "code",
   "execution_count": 27,
   "metadata": {},
   "outputs": [
    {
     "name": "stderr",
     "output_type": "stream",
     "text": [
      "INFO - cabinetry.fit - calculating discovery significance for mu_Signal\n",
      "INFO - cabinetry.fit - observed p-value: 6.098%\n",
      "INFO - cabinetry.fit - observed significance: 1.547\n",
      "INFO - cabinetry.fit - expected p-value: 37.970%\n",
      "INFO - cabinetry.fit - expected significance: 0.306\n"
     ]
    }
   ],
   "source": [
    "# calculate the discovery p-value and significance\n",
    "discovery_fit_results = cabinetry.fit.significance(model, data)\n",
    "p0 = discovery_fit_results.observed_p_value\n",
    "z0 = discovery_fit_results.observed_significance"
   ]
  },
  {
   "cell_type": "markdown",
   "metadata": {},
   "source": [
    "Print and plot the results."
   ]
  },
  {
   "cell_type": "code",
   "execution_count": 28,
   "metadata": {},
   "outputs": [
    {
     "name": "stdout",
     "output_type": "stream",
     "text": [
      "Observed (Expected) UL on BSM events at 95% CL = 12.96 (7.66 + 3.72 - 2.40)\n",
      "Observed UL on visible BSM cross-section at 95% CL = 0.09 fb\n",
      "Observed discovery p-value (Z) = 0.06 (1.55)\n"
     ]
    }
   ],
   "source": [
    "print(f\"Observed (Expected) UL on BSM events at 95% CL = {obs_limit:.2f} ({exp_limits[2]:.2f} + {(exp_limits[3] - exp_limits[2]):.2f} - {(exp_limits[2] - exp_limits[1]):.2f})\")\n",
    "print(f\"Observed UL on visible BSM cross-section at 95% CL = {obs_limit/138.965:.2f} fb\") # use LHC Run 2 luminosity\n",
    "print(f\"Observed discovery p-value (Z) = {p0:.2f} ({z0:.2f})\")"
   ]
  },
  {
   "cell_type": "code",
   "execution_count": 29,
   "metadata": {},
   "outputs": [
    {
     "data": {
      "image/png": "[encoded data removed]",
      "text/plain": [
       "<Figure size 1050x750 with 1 Axes>"
      ]
     },
     "metadata": {},
     "output_type": "display_data"
    }
   ],
   "source": [
    "tools.plot_UL_scan(obs_limit, obs_results, exp_limits, exp_results, scan)"
   ]
  },
  {
   "cell_type": "markdown",
   "metadata": {},
   "source": [
    "## Conclusions\n",
    "\n",
    "In this notebook we have demonstrated the implementation of the three common types of fits used in ATLAS SUSY analyses:\n",
    "1. Background-only fit\n",
    "2. Exclusion fit\n",
    "3. Discovery fit\n",
    "using solely python and the `pyhf` and `cabinetry` libraries.\n",
    "\n",
    "The contribution signifies the adaptability of `pyhf`, liberating the analysis from dependence on traditional ROOT-based tools. In addition to enhancing clarity regarding the statistical model itself, this implementation signifies a broader shift towards contemporary standards in data analytics."
   ]
  }
 ],
 "metadata": {
  "kernelspec": {
   "display_name": "pyfits",
   "language": "python",
   "name": "python3"
  },
  "language_info": {
   "codemirror_mode": {
    "name": "ipython",
    "version": 3
   },
   "file_extension": ".py",
   "mimetype": "text/x-python",
   "name": "python",
   "nbconvert_exporter": "python",
   "pygments_lexer": "ipython3",
   "version": "3.9.7"
  }
 },
 "nbformat": 4,
 "nbformat_minor": 2
}
